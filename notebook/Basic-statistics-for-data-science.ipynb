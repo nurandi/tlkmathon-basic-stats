{
 "cells": [
  {
   "cell_type": "markdown",
   "id": "5dc243d0",
   "metadata": {},
   "source": [
    "# Basic Statistics for Data Science (with Python)"
   ]
  },
  {
   "cell_type": "markdown",
   "id": "ec6b63b0",
   "metadata": {},
   "source": [
    "**By Nur Andi Setiabudi / July 2021**"
   ]
  },
  {
   "cell_type": "markdown",
   "id": "715977a3",
   "metadata": {},
   "source": [
    "# 1. Descriptive Statistics and Visualization"
   ]
  },
  {
   "cell_type": "code",
   "execution_count": 1,
   "id": "2ae38733",
   "metadata": {},
   "outputs": [],
   "source": [
    "import numpy as np\n",
    "import pandas as pd\n",
    "import matplotlib.pyplot as plt\n",
    "import seaborn as sns\n",
    "from math import sqrt\n",
    "import scipy.stats\n",
    "\n",
    "import statsmodels.api as sm\n",
    "import statsmodels.stats.weightstats as sms\n",
    "import statsmodels.stats.proportion as prop"
   ]
  },
  {
   "cell_type": "markdown",
   "id": "a4108242",
   "metadata": {},
   "source": [
    "## Read data"
   ]
  },
  {
   "cell_type": "code",
   "execution_count": 2,
   "id": "78f13886",
   "metadata": {},
   "outputs": [],
   "source": [
    "data_url = \"https://raw.githubusercontent.com/nurandi/tlkmathon-basic-stats/main/data/insurance.csv\"\n",
    "insurance_df = pd.read_csv(data_url)"
   ]
  },
  {
   "cell_type": "markdown",
   "id": "01d431ce",
   "metadata": {},
   "source": [
    "## Basic Stat"
   ]
  },
  {
   "cell_type": "code",
   "execution_count": 3,
   "id": "61836aee",
   "metadata": {},
   "outputs": [
    {
     "name": "stdout",
     "output_type": "stream",
     "text": [
      "<class 'pandas.core.frame.DataFrame'>\n",
      "RangeIndex: 1338 entries, 0 to 1337\n",
      "Data columns (total 7 columns):\n",
      "age         1338 non-null int64\n",
      "sex         1338 non-null object\n",
      "bmi         1338 non-null float64\n",
      "children    1338 non-null int64\n",
      "smoker      1338 non-null object\n",
      "region      1338 non-null object\n",
      "charges     1338 non-null float64\n",
      "dtypes: float64(2), int64(2), object(3)\n",
      "memory usage: 73.3+ KB\n"
     ]
    }
   ],
   "source": [
    "insurance_df.info()"
   ]
  },
  {
   "cell_type": "code",
   "execution_count": 4,
   "id": "15144186",
   "metadata": {},
   "outputs": [
    {
     "data": {
      "text/plain": [
       "(1338, 7)"
      ]
     },
     "execution_count": 4,
     "metadata": {},
     "output_type": "execute_result"
    }
   ],
   "source": [
    "insurance_df.shape"
   ]
  },
  {
   "cell_type": "code",
   "execution_count": 5,
   "id": "1d47fb63",
   "metadata": {},
   "outputs": [
    {
     "data": {
      "text/html": [
       "<div>\n",
       "<style scoped>\n",
       "    .dataframe tbody tr th:only-of-type {\n",
       "        vertical-align: middle;\n",
       "    }\n",
       "\n",
       "    .dataframe tbody tr th {\n",
       "        vertical-align: top;\n",
       "    }\n",
       "\n",
       "    .dataframe thead th {\n",
       "        text-align: right;\n",
       "    }\n",
       "</style>\n",
       "<table border=\"1\" class=\"dataframe\">\n",
       "  <thead>\n",
       "    <tr style=\"text-align: right;\">\n",
       "      <th></th>\n",
       "      <th>age</th>\n",
       "      <th>sex</th>\n",
       "      <th>bmi</th>\n",
       "      <th>children</th>\n",
       "      <th>smoker</th>\n",
       "      <th>region</th>\n",
       "      <th>charges</th>\n",
       "    </tr>\n",
       "  </thead>\n",
       "  <tbody>\n",
       "    <tr>\n",
       "      <th>0</th>\n",
       "      <td>19</td>\n",
       "      <td>female</td>\n",
       "      <td>27.900</td>\n",
       "      <td>0</td>\n",
       "      <td>yes</td>\n",
       "      <td>southwest</td>\n",
       "      <td>16884.92400</td>\n",
       "    </tr>\n",
       "    <tr>\n",
       "      <th>1</th>\n",
       "      <td>18</td>\n",
       "      <td>male</td>\n",
       "      <td>33.770</td>\n",
       "      <td>1</td>\n",
       "      <td>no</td>\n",
       "      <td>southeast</td>\n",
       "      <td>1725.55230</td>\n",
       "    </tr>\n",
       "    <tr>\n",
       "      <th>2</th>\n",
       "      <td>28</td>\n",
       "      <td>male</td>\n",
       "      <td>33.000</td>\n",
       "      <td>3</td>\n",
       "      <td>no</td>\n",
       "      <td>southeast</td>\n",
       "      <td>4449.46200</td>\n",
       "    </tr>\n",
       "    <tr>\n",
       "      <th>3</th>\n",
       "      <td>33</td>\n",
       "      <td>male</td>\n",
       "      <td>22.705</td>\n",
       "      <td>0</td>\n",
       "      <td>no</td>\n",
       "      <td>northwest</td>\n",
       "      <td>21984.47061</td>\n",
       "    </tr>\n",
       "    <tr>\n",
       "      <th>4</th>\n",
       "      <td>32</td>\n",
       "      <td>male</td>\n",
       "      <td>28.880</td>\n",
       "      <td>0</td>\n",
       "      <td>no</td>\n",
       "      <td>northwest</td>\n",
       "      <td>3866.85520</td>\n",
       "    </tr>\n",
       "  </tbody>\n",
       "</table>\n",
       "</div>"
      ],
      "text/plain": [
       "   age     sex     bmi  children smoker     region      charges\n",
       "0   19  female  27.900         0    yes  southwest  16884.92400\n",
       "1   18    male  33.770         1     no  southeast   1725.55230\n",
       "2   28    male  33.000         3     no  southeast   4449.46200\n",
       "3   33    male  22.705         0     no  northwest  21984.47061\n",
       "4   32    male  28.880         0     no  northwest   3866.85520"
      ]
     },
     "execution_count": 5,
     "metadata": {},
     "output_type": "execute_result"
    }
   ],
   "source": [
    "insurance_df.head()"
   ]
  },
  {
   "cell_type": "code",
   "execution_count": 6,
   "id": "17a34ef0",
   "metadata": {},
   "outputs": [
    {
     "data": {
      "text/html": [
       "<div>\n",
       "<style scoped>\n",
       "    .dataframe tbody tr th:only-of-type {\n",
       "        vertical-align: middle;\n",
       "    }\n",
       "\n",
       "    .dataframe tbody tr th {\n",
       "        vertical-align: top;\n",
       "    }\n",
       "\n",
       "    .dataframe thead th {\n",
       "        text-align: right;\n",
       "    }\n",
       "</style>\n",
       "<table border=\"1\" class=\"dataframe\">\n",
       "  <thead>\n",
       "    <tr style=\"text-align: right;\">\n",
       "      <th></th>\n",
       "      <th>age</th>\n",
       "      <th>bmi</th>\n",
       "      <th>children</th>\n",
       "      <th>charges</th>\n",
       "    </tr>\n",
       "  </thead>\n",
       "  <tbody>\n",
       "    <tr>\n",
       "      <th>count</th>\n",
       "      <td>1338.000000</td>\n",
       "      <td>1338.000000</td>\n",
       "      <td>1338.000000</td>\n",
       "      <td>1338.000000</td>\n",
       "    </tr>\n",
       "    <tr>\n",
       "      <th>mean</th>\n",
       "      <td>39.207025</td>\n",
       "      <td>30.663397</td>\n",
       "      <td>1.094918</td>\n",
       "      <td>13270.422265</td>\n",
       "    </tr>\n",
       "    <tr>\n",
       "      <th>std</th>\n",
       "      <td>14.049960</td>\n",
       "      <td>6.098187</td>\n",
       "      <td>1.205493</td>\n",
       "      <td>12110.011237</td>\n",
       "    </tr>\n",
       "    <tr>\n",
       "      <th>min</th>\n",
       "      <td>18.000000</td>\n",
       "      <td>15.960000</td>\n",
       "      <td>0.000000</td>\n",
       "      <td>1121.873900</td>\n",
       "    </tr>\n",
       "    <tr>\n",
       "      <th>25%</th>\n",
       "      <td>27.000000</td>\n",
       "      <td>26.296250</td>\n",
       "      <td>0.000000</td>\n",
       "      <td>4740.287150</td>\n",
       "    </tr>\n",
       "    <tr>\n",
       "      <th>50%</th>\n",
       "      <td>39.000000</td>\n",
       "      <td>30.400000</td>\n",
       "      <td>1.000000</td>\n",
       "      <td>9382.033000</td>\n",
       "    </tr>\n",
       "    <tr>\n",
       "      <th>75%</th>\n",
       "      <td>51.000000</td>\n",
       "      <td>34.693750</td>\n",
       "      <td>2.000000</td>\n",
       "      <td>16639.912515</td>\n",
       "    </tr>\n",
       "    <tr>\n",
       "      <th>max</th>\n",
       "      <td>64.000000</td>\n",
       "      <td>53.130000</td>\n",
       "      <td>5.000000</td>\n",
       "      <td>63770.428010</td>\n",
       "    </tr>\n",
       "  </tbody>\n",
       "</table>\n",
       "</div>"
      ],
      "text/plain": [
       "               age          bmi     children       charges\n",
       "count  1338.000000  1338.000000  1338.000000   1338.000000\n",
       "mean     39.207025    30.663397     1.094918  13270.422265\n",
       "std      14.049960     6.098187     1.205493  12110.011237\n",
       "min      18.000000    15.960000     0.000000   1121.873900\n",
       "25%      27.000000    26.296250     0.000000   4740.287150\n",
       "50%      39.000000    30.400000     1.000000   9382.033000\n",
       "75%      51.000000    34.693750     2.000000  16639.912515\n",
       "max      64.000000    53.130000     5.000000  63770.428010"
      ]
     },
     "execution_count": 6,
     "metadata": {},
     "output_type": "execute_result"
    }
   ],
   "source": [
    "insurance_df.describe()"
   ]
  },
  {
   "cell_type": "code",
   "execution_count": 7,
   "id": "843ed5d0",
   "metadata": {},
   "outputs": [
    {
     "data": {
      "text/plain": [
       "39.20702541106129"
      ]
     },
     "execution_count": 7,
     "metadata": {},
     "output_type": "execute_result"
    }
   ],
   "source": [
    "insurance_df['age'].mean()"
   ]
  },
  {
   "cell_type": "code",
   "execution_count": 8,
   "id": "68143014",
   "metadata": {},
   "outputs": [
    {
     "data": {
      "text/plain": [
       "14.049960379216172"
      ]
     },
     "execution_count": 8,
     "metadata": {},
     "output_type": "execute_result"
    }
   ],
   "source": [
    "insurance_df['age'].std()"
   ]
  },
  {
   "cell_type": "code",
   "execution_count": 9,
   "id": "e9cb6230",
   "metadata": {},
   "outputs": [
    {
     "data": {
      "text/plain": [
       "39.0"
      ]
     },
     "execution_count": 9,
     "metadata": {},
     "output_type": "execute_result"
    }
   ],
   "source": [
    "insurance_df['age'].median()"
   ]
  },
  {
   "cell_type": "code",
   "execution_count": 10,
   "id": "77409ef2",
   "metadata": {},
   "outputs": [
    {
     "data": {
      "text/plain": [
       "18"
      ]
     },
     "execution_count": 10,
     "metadata": {},
     "output_type": "execute_result"
    }
   ],
   "source": [
    "insurance_df['age'].min()"
   ]
  },
  {
   "cell_type": "code",
   "execution_count": 11,
   "id": "a2dab69f",
   "metadata": {},
   "outputs": [
    {
     "data": {
      "text/plain": [
       "64"
      ]
     },
     "execution_count": 11,
     "metadata": {},
     "output_type": "execute_result"
    }
   ],
   "source": [
    "insurance_df['age'].max()"
   ]
  },
  {
   "cell_type": "code",
   "execution_count": 12,
   "id": "a7e104f6",
   "metadata": {
    "scrolled": true
   },
   "outputs": [
    {
     "data": {
      "text/html": [
       "<div>\n",
       "<style scoped>\n",
       "    .dataframe tbody tr th:only-of-type {\n",
       "        vertical-align: middle;\n",
       "    }\n",
       "\n",
       "    .dataframe tbody tr th {\n",
       "        vertical-align: top;\n",
       "    }\n",
       "\n",
       "    .dataframe thead tr th {\n",
       "        text-align: left;\n",
       "    }\n",
       "</style>\n",
       "<table border=\"1\" class=\"dataframe\">\n",
       "  <thead>\n",
       "    <tr>\n",
       "      <th></th>\n",
       "      <th>sex</th>\n",
       "      <th colspan=\"4\" halign=\"left\">age</th>\n",
       "    </tr>\n",
       "    <tr>\n",
       "      <th></th>\n",
       "      <th></th>\n",
       "      <th>mean</th>\n",
       "      <th>std</th>\n",
       "      <th>var</th>\n",
       "      <th>count</th>\n",
       "    </tr>\n",
       "  </thead>\n",
       "  <tbody>\n",
       "    <tr>\n",
       "      <th>0</th>\n",
       "      <td>female</td>\n",
       "      <td>39.503021</td>\n",
       "      <td>14.054223</td>\n",
       "      <td>197.521171</td>\n",
       "      <td>662</td>\n",
       "    </tr>\n",
       "    <tr>\n",
       "      <th>1</th>\n",
       "      <td>male</td>\n",
       "      <td>38.917160</td>\n",
       "      <td>14.050141</td>\n",
       "      <td>197.406461</td>\n",
       "      <td>676</td>\n",
       "    </tr>\n",
       "  </tbody>\n",
       "</table>\n",
       "</div>"
      ],
      "text/plain": [
       "      sex        age                             \n",
       "                mean        std         var count\n",
       "0  female  39.503021  14.054223  197.521171   662\n",
       "1    male  38.917160  14.050141  197.406461   676"
      ]
     },
     "execution_count": 12,
     "metadata": {},
     "output_type": "execute_result"
    }
   ],
   "source": [
    "insurance_df.groupby('sex').agg({'age':['mean', 'std', 'var', 'count']}).reset_index()"
   ]
  },
  {
   "cell_type": "code",
   "execution_count": 13,
   "id": "06141647",
   "metadata": {},
   "outputs": [
    {
     "data": {
      "text/html": [
       "<div>\n",
       "<style scoped>\n",
       "    .dataframe tbody tr th:only-of-type {\n",
       "        vertical-align: middle;\n",
       "    }\n",
       "\n",
       "    .dataframe tbody tr th {\n",
       "        vertical-align: top;\n",
       "    }\n",
       "\n",
       "    .dataframe thead th {\n",
       "        text-align: right;\n",
       "    }\n",
       "</style>\n",
       "<table border=\"1\" class=\"dataframe\">\n",
       "  <thead>\n",
       "    <tr style=\"text-align: right;\">\n",
       "      <th></th>\n",
       "      <th>sex</th>\n",
       "      <th>smoker</th>\n",
       "    </tr>\n",
       "  </thead>\n",
       "  <tbody>\n",
       "    <tr>\n",
       "      <th>0</th>\n",
       "      <td>female</td>\n",
       "      <td>662</td>\n",
       "    </tr>\n",
       "    <tr>\n",
       "      <th>1</th>\n",
       "      <td>male</td>\n",
       "      <td>676</td>\n",
       "    </tr>\n",
       "  </tbody>\n",
       "</table>\n",
       "</div>"
      ],
      "text/plain": [
       "      sex  smoker\n",
       "0  female     662\n",
       "1    male     676"
      ]
     },
     "execution_count": 13,
     "metadata": {},
     "output_type": "execute_result"
    }
   ],
   "source": [
    "smoker_count = insurance_df.groupby('sex').agg({'smoker': 'count'}).reset_index()\n",
    "smoker_count"
   ]
  },
  {
   "cell_type": "code",
   "execution_count": 14,
   "id": "367368e7",
   "metadata": {},
   "outputs": [
    {
     "data": {
      "text/html": [
       "<div>\n",
       "<style scoped>\n",
       "    .dataframe tbody tr th:only-of-type {\n",
       "        vertical-align: middle;\n",
       "    }\n",
       "\n",
       "    .dataframe tbody tr th {\n",
       "        vertical-align: top;\n",
       "    }\n",
       "\n",
       "    .dataframe thead th {\n",
       "        text-align: right;\n",
       "    }\n",
       "</style>\n",
       "<table border=\"1\" class=\"dataframe\">\n",
       "  <thead>\n",
       "    <tr style=\"text-align: right;\">\n",
       "      <th></th>\n",
       "      <th>sex</th>\n",
       "      <th>smoker</th>\n",
       "      <th>percentage</th>\n",
       "    </tr>\n",
       "  </thead>\n",
       "  <tbody>\n",
       "    <tr>\n",
       "      <th>0</th>\n",
       "      <td>female</td>\n",
       "      <td>662</td>\n",
       "      <td>49.476831</td>\n",
       "    </tr>\n",
       "    <tr>\n",
       "      <th>1</th>\n",
       "      <td>male</td>\n",
       "      <td>676</td>\n",
       "      <td>50.523169</td>\n",
       "    </tr>\n",
       "  </tbody>\n",
       "</table>\n",
       "</div>"
      ],
      "text/plain": [
       "      sex  smoker  percentage\n",
       "0  female     662   49.476831\n",
       "1    male     676   50.523169"
      ]
     },
     "execution_count": 14,
     "metadata": {},
     "output_type": "execute_result"
    }
   ],
   "source": [
    "smoker_count['percentage'] = 100 * smoker_count.smoker/smoker_count.smoker.sum()\n",
    "smoker_count"
   ]
  },
  {
   "cell_type": "code",
   "execution_count": 15,
   "id": "fde0afea",
   "metadata": {},
   "outputs": [
    {
     "data": {
      "text/html": [
       "<div>\n",
       "<style scoped>\n",
       "    .dataframe tbody tr th:only-of-type {\n",
       "        vertical-align: middle;\n",
       "    }\n",
       "\n",
       "    .dataframe tbody tr th {\n",
       "        vertical-align: top;\n",
       "    }\n",
       "\n",
       "    .dataframe thead th {\n",
       "        text-align: right;\n",
       "    }\n",
       "</style>\n",
       "<table border=\"1\" class=\"dataframe\">\n",
       "  <thead>\n",
       "    <tr style=\"text-align: right;\">\n",
       "      <th>smoker</th>\n",
       "      <th>no</th>\n",
       "      <th>yes</th>\n",
       "    </tr>\n",
       "    <tr>\n",
       "      <th>sex</th>\n",
       "      <th></th>\n",
       "      <th></th>\n",
       "    </tr>\n",
       "  </thead>\n",
       "  <tbody>\n",
       "    <tr>\n",
       "      <th>female</th>\n",
       "      <td>547</td>\n",
       "      <td>115</td>\n",
       "    </tr>\n",
       "    <tr>\n",
       "      <th>male</th>\n",
       "      <td>517</td>\n",
       "      <td>159</td>\n",
       "    </tr>\n",
       "  </tbody>\n",
       "</table>\n",
       "</div>"
      ],
      "text/plain": [
       "smoker   no  yes\n",
       "sex             \n",
       "female  547  115\n",
       "male    517  159"
      ]
     },
     "execution_count": 15,
     "metadata": {},
     "output_type": "execute_result"
    }
   ],
   "source": [
    "pd.crosstab(insurance_df.sex, insurance_df.smoker)"
   ]
  },
  {
   "cell_type": "code",
   "execution_count": 16,
   "id": "c02595ad",
   "metadata": {},
   "outputs": [
    {
     "data": {
      "text/html": [
       "<div>\n",
       "<style scoped>\n",
       "    .dataframe tbody tr th:only-of-type {\n",
       "        vertical-align: middle;\n",
       "    }\n",
       "\n",
       "    .dataframe tbody tr th {\n",
       "        vertical-align: top;\n",
       "    }\n",
       "\n",
       "    .dataframe thead th {\n",
       "        text-align: right;\n",
       "    }\n",
       "</style>\n",
       "<table border=\"1\" class=\"dataframe\">\n",
       "  <thead>\n",
       "    <tr style=\"text-align: right;\">\n",
       "      <th>smoker</th>\n",
       "      <th>no</th>\n",
       "      <th>yes</th>\n",
       "      <th>Total</th>\n",
       "    </tr>\n",
       "    <tr>\n",
       "      <th>sex</th>\n",
       "      <th></th>\n",
       "      <th></th>\n",
       "      <th></th>\n",
       "    </tr>\n",
       "  </thead>\n",
       "  <tbody>\n",
       "    <tr>\n",
       "      <th>female</th>\n",
       "      <td>547</td>\n",
       "      <td>115</td>\n",
       "      <td>662</td>\n",
       "    </tr>\n",
       "    <tr>\n",
       "      <th>male</th>\n",
       "      <td>517</td>\n",
       "      <td>159</td>\n",
       "      <td>676</td>\n",
       "    </tr>\n",
       "    <tr>\n",
       "      <th>Total</th>\n",
       "      <td>1064</td>\n",
       "      <td>274</td>\n",
       "      <td>1338</td>\n",
       "    </tr>\n",
       "  </tbody>\n",
       "</table>\n",
       "</div>"
      ],
      "text/plain": [
       "smoker    no  yes  Total\n",
       "sex                     \n",
       "female   547  115    662\n",
       "male     517  159    676\n",
       "Total   1064  274   1338"
      ]
     },
     "execution_count": 16,
     "metadata": {},
     "output_type": "execute_result"
    }
   ],
   "source": [
    "pd.crosstab(insurance_df.sex, insurance_df.smoker, margins=True, margins_name='Total')"
   ]
  },
  {
   "cell_type": "markdown",
   "id": "13e1f52f",
   "metadata": {},
   "source": [
    "## Data Viz"
   ]
  },
  {
   "cell_type": "code",
   "execution_count": 17,
   "id": "f3566e08",
   "metadata": {},
   "outputs": [],
   "source": [
    "sex_charges = insurance_df.groupby('sex')[['charges']].mean().reset_index()"
   ]
  },
  {
   "cell_type": "code",
   "execution_count": 18,
   "id": "40fae55b",
   "metadata": {},
   "outputs": [
    {
     "data": {
      "image/png": "[encoded data removed]",
      "text/plain": [
       "<Figure size 432x288 with 1 Axes>"
      ]
     },
     "metadata": {
      "needs_background": "light"
     },
     "output_type": "display_data"
    }
   ],
   "source": [
    "ax = sns.barplot(x='sex', y='charges', data=sex_charges)"
   ]
  },
  {
   "cell_type": "code",
   "execution_count": 19,
   "id": "2d3ad884",
   "metadata": {
    "scrolled": true
   },
   "outputs": [
    {
     "data": {
      "image/png": "[encoded data removed]",
      "text/plain": [
       "<Figure size 432x288 with 1 Axes>"
      ]
     },
     "metadata": {
      "needs_background": "light"
     },
     "output_type": "display_data"
    }
   ],
   "source": [
    "ax = sns.histplot(insurance_df['bmi'])"
   ]
  },
  {
   "cell_type": "code",
   "execution_count": 20,
   "id": "16a81e37",
   "metadata": {},
   "outputs": [
    {
     "data": {
      "image/png": "[encoded data removed]",
      "text/plain": [
       "<Figure size 432x288 with 1 Axes>"
      ]
     },
     "metadata": {
      "needs_background": "light"
     },
     "output_type": "display_data"
    }
   ],
   "source": [
    "ax = sns.scatterplot(x='age', y='charges', data=insurance_df)"
   ]
  },
  {
   "cell_type": "code",
   "execution_count": 21,
   "id": "f1b7df1e",
   "metadata": {},
   "outputs": [
    {
     "data": {
      "image/png": "[encoded data removed]",
      "text/plain": [
       "<Figure size 432x288 with 1 Axes>"
      ]
     },
     "metadata": {
      "needs_background": "light"
     },
     "output_type": "display_data"
    }
   ],
   "source": [
    "ax = sns.boxplot(y='charges', data=insurance_df)"
   ]
  },
  {
   "cell_type": "code",
   "execution_count": 22,
   "id": "2f3d20cd",
   "metadata": {},
   "outputs": [
    {
     "data": {
      "image/png": "[encoded data removed]",
      "text/plain": [
       "<Figure size 432x288 with 1 Axes>"
      ]
     },
     "metadata": {
      "needs_background": "light"
     },
     "output_type": "display_data"
    }
   ],
   "source": [
    "ax = sns.boxplot(x='sex', y=\"charges\", data=insurance_df)"
   ]
  },
  {
   "cell_type": "markdown",
   "id": "006cc83c",
   "metadata": {},
   "source": [
    "# 2. Probability Distribution"
   ]
  },
  {
   "cell_type": "markdown",
   "id": "c83125bd",
   "metadata": {},
   "source": [
    "**From PPT:** The weights of adult-males are known to be normally distributed with a mean of 70 kgs and a standard deviation of 13 kgs. Find the percentage of adult-males with weights less than 80 kgs"
   ]
  },
  {
   "cell_type": "code",
   "execution_count": 24,
   "id": "b5a532d3",
   "metadata": {},
   "outputs": [],
   "source": [
    "weight_mean = 70\n",
    "weight_stdev = 13\n",
    "x0 = 80"
   ]
  },
  {
   "cell_type": "code",
   "execution_count": 25,
   "id": "17fec0bd",
   "metadata": {},
   "outputs": [
    {
     "data": {
      "text/plain": [
       "0.7791218362875403"
      ]
     },
     "execution_count": 25,
     "metadata": {},
     "output_type": "execute_result"
    }
   ],
   "source": [
    "prob0 = scipy.stats.norm.cdf((x0 - weight_mean)/weight_stdev)\n",
    "prob0"
   ]
  },
  {
   "cell_type": "markdown",
   "id": "66e617cb",
   "metadata": {},
   "source": [
    " Whats is probability that an adult-male has a weight between 60 and 80kg "
   ]
  },
  {
   "cell_type": "code",
   "execution_count": 26,
   "id": "3213fc69",
   "metadata": {},
   "outputs": [
    {
     "data": {
      "text/plain": [
       "0.5582436725750806"
      ]
     },
     "execution_count": 26,
     "metadata": {},
     "output_type": "execute_result"
    }
   ],
   "source": [
    "x1 = 60\n",
    "prob1 = scipy.stats.norm.cdf((x1 - weight_mean)/weight_stdev)\n",
    "prob = prob0 - prob1\n",
    "prob"
   ]
  },
  {
   "cell_type": "markdown",
   "id": "94f3fcee",
   "metadata": {},
   "source": [
    "Using the insurance data, what is the probability of having an BMI greater than 40?"
   ]
  },
  {
   "cell_type": "code",
   "execution_count": 27,
   "id": "3da34640",
   "metadata": {},
   "outputs": [
    {
     "name": "stdout",
     "output_type": "stream",
     "text": [
      "30.663396860986538 6.098186911679017\n",
      "0.06287904333524363\n"
     ]
    }
   ],
   "source": [
    "bmi_mean = insurance_df['bmi'].mean()\n",
    "bmi_stdev = insurance_df['bmi'].std()\n",
    "print(bmi_mean, bmi_stdev)\n",
    "\n",
    "x0 = 40\n",
    "prob0 = scipy.stats.norm.cdf((x0 - bmi_mean)/bmi_stdev)\n",
    "print(1 - prob0)"
   ]
  },
  {
   "cell_type": "code",
   "execution_count": 28,
   "id": "8f56dc6b",
   "metadata": {},
   "outputs": [],
   "source": [
    "bmi_std = (insurance_df['bmi'] - bmi_mean)/bmi_stdev"
   ]
  },
  {
   "cell_type": "code",
   "execution_count": 29,
   "id": "1bec54bd",
   "metadata": {},
   "outputs": [
    {
     "name": "stdout",
     "output_type": "stream",
     "text": [
      "1.5532750306031851e-15 0.9999999999999998\n"
     ]
    }
   ],
   "source": [
    "bmi_std_mean = bmi_std.mean()\n",
    "bmi_std_stdev = bmi_std.std()\n",
    "print(bmi_std_mean,bmi_std_stdev)"
   ]
  },
  {
   "cell_type": "code",
   "execution_count": 30,
   "id": "7ae84e6b",
   "metadata": {},
   "outputs": [
    {
     "data": {
      "image/png": "[encoded data removed]",
      "text/plain": [
       "<Figure size 432x288 with 1 Axes>"
      ]
     },
     "metadata": {
      "needs_background": "light"
     },
     "output_type": "display_data"
    }
   ],
   "source": [
    "ax = sns.histplot(bmi_std)"
   ]
  },
  {
   "cell_type": "code",
   "execution_count": 31,
   "id": "2b2b3aed",
   "metadata": {},
   "outputs": [
    {
     "data": {
      "image/png": "[encoded data removed]",
      "text/plain": [
       "<Figure size 432x288 with 1 Axes>"
      ]
     },
     "metadata": {
      "needs_background": "light"
     },
     "output_type": "display_data"
    }
   ],
   "source": [
    "ax = sns.histplot(insurance_df['bmi'])"
   ]
  },
  {
   "cell_type": "markdown",
   "id": "1d6e85b2",
   "metadata": {},
   "source": [
    "# 3. Hypothesis testing"
   ]
  },
  {
   "cell_type": "markdown",
   "id": "45df8524",
   "metadata": {},
   "source": [
    "## Confidence Interval"
   ]
  },
  {
   "cell_type": "markdown",
   "id": "9ec50ab7",
   "metadata": {},
   "source": [
    "**From PPT:** We measure the heights of 40 randomly chosen men, and get a mean height of 175cm. We have already known that standard deviation is 20cm. Calculate the 95% confidence interval for mean height!\n"
   ]
  },
  {
   "cell_type": "code",
   "execution_count": 32,
   "id": "6145f6a5",
   "metadata": {},
   "outputs": [],
   "source": [
    "n = 40\n",
    "height_mean = 175\n",
    "height_stdev = 20"
   ]
  },
  {
   "cell_type": "code",
   "execution_count": 33,
   "id": "77cfbef9",
   "metadata": {},
   "outputs": [],
   "source": [
    "se = height_stdev/sqrt(n)"
   ]
  },
  {
   "cell_type": "code",
   "execution_count": 34,
   "id": "0c9dc020",
   "metadata": {},
   "outputs": [
    {
     "data": {
      "text/plain": [
       "(168.8020496769544, 181.1979503230456)"
      ]
     },
     "execution_count": 34,
     "metadata": {},
     "output_type": "execute_result"
    }
   ],
   "source": [
    "scipy.stats.norm.interval(0.95, loc=height_mean, scale=se)"
   ]
  },
  {
   "cell_type": "markdown",
   "id": "81ef717d",
   "metadata": {},
   "source": [
    "## Hypothesis testing"
   ]
  },
  {
   "cell_type": "markdown",
   "id": "a4659260",
   "metadata": {},
   "source": [
    "### One-sample T-test"
   ]
  },
  {
   "cell_type": "markdown",
   "id": "bedba5f7",
   "metadata": {},
   "source": [
    "A premium golf ball production line must produce all of its balls to 1.615 ounces (45.78 grams) in order to get the top rating (and therefore the top dollar). Samples are drawn hourly and checked. If the production line gets out of sync with a statistical significance of more than 1%, it must be shut down and repaired. One hour samples have been drawn.\n",
    "\n",
    "1.616, 1.610, 1.615, 1.617, 1.618, 1.614, 1.615, 1.617, 1.610, 1.590, 1.610, 1.619, 1.620, 1.611, 1.612, 1.614, 1.615\n",
    "\n",
    "Do you shut down the line?"
   ]
  },
  {
   "cell_type": "markdown",
   "id": "74f8fc5c",
   "metadata": {},
   "source": [
    "Hypothesis:\n",
    "-   $H_0: µ = 1.615$ (\"mean of weight = 1.615 ounces\")\n",
    "-   $H_1: µ ≠ 1.615$"
   ]
  },
  {
   "cell_type": "code",
   "execution_count": 35,
   "id": "a778c178",
   "metadata": {},
   "outputs": [],
   "source": [
    "sample = np.array([1.616, 1.610, 1.615, 1.617, 1.618, 1.614, 1.615, 1.617, 1.610, 1.590, 1.610, 1.619, 1.620, 1.611, 1.612, 1.614, 1.615])"
   ]
  },
  {
   "cell_type": "markdown",
   "id": "75fba4d8",
   "metadata": {},
   "source": [
    "#### Step 1: Calculate number of sample, mean and std. dev"
   ]
  },
  {
   "cell_type": "code",
   "execution_count": 36,
   "id": "ea4a4c2f",
   "metadata": {},
   "outputs": [],
   "source": [
    "sample_mean = sample.mean()\n",
    "sample_stdev = sample.std()\n",
    "n = sample.size\n",
    "df = n - 1\n"
   ]
  },
  {
   "cell_type": "code",
   "execution_count": 37,
   "id": "59ab0493",
   "metadata": {},
   "outputs": [],
   "source": [
    "alpha = 0.01\n",
    "h1_mean = 1.615"
   ]
  },
  {
   "cell_type": "markdown",
   "id": "4e5771cc",
   "metadata": {},
   "source": [
    "#### Step 2: Find/calculate critical value(s)"
   ]
  },
  {
   "cell_type": "code",
   "execution_count": 38,
   "id": "029dc1b2",
   "metadata": {
    "scrolled": true
   },
   "outputs": [
    {
     "name": "stdout",
     "output_type": "stream",
     "text": [
      "-2.9207816223499976 2.9207816223499967\n"
     ]
    }
   ],
   "source": [
    "# if you have python \n",
    "cv1 = scipy.stats.t.ppf(alpha/2, df)\n",
    "cv2 = scipy.stats.t.ppf(1- (alpha/2), df)\n",
    "print(cv1, cv2)"
   ]
  },
  {
   "cell_type": "code",
   "execution_count": 39,
   "id": "4e1be60f",
   "metadata": {},
   "outputs": [
    {
     "data": {
      "text/plain": [
       "16"
      ]
     },
     "execution_count": 39,
     "metadata": {},
     "output_type": "execute_result"
    }
   ],
   "source": [
    "df"
   ]
  },
  {
   "cell_type": "markdown",
   "id": "227f56e7",
   "metadata": {},
   "source": [
    "Or, simple use t-distribution table\n",
    "\n",
    "![t-table](https://image.slidesharecdn.com/t-distributiontable-170723122602/95/t-distribution-table-1-638.jpg)"
   ]
  },
  {
   "cell_type": "markdown",
   "id": "b96c5b5b",
   "metadata": {},
   "source": [
    "#### Step 3: Calculate t-statistic and/or p-value"
   ]
  },
  {
   "cell_type": "code",
   "execution_count": 40,
   "id": "b937bb85",
   "metadata": {},
   "outputs": [
    {
     "data": {
      "text/plain": [
       "-1.1523584392206894"
      ]
     },
     "execution_count": 40,
     "metadata": {},
     "output_type": "execute_result"
    }
   ],
   "source": [
    "tstat = (sample_mean - h1_mean)/(sample_stdev/(sqrt(df)))\n",
    "tstat"
   ]
  },
  {
   "cell_type": "code",
   "execution_count": 41,
   "id": "0fe82048",
   "metadata": {},
   "outputs": [
    {
     "data": {
      "text/plain": [
       "0.26610119536404553"
      ]
     },
     "execution_count": 41,
     "metadata": {},
     "output_type": "execute_result"
    }
   ],
   "source": [
    "pvalue = (1 - scipy.stats.t.cdf(abs(tstat), df)) * 2\n",
    "pvalue"
   ]
  },
  {
   "cell_type": "markdown",
   "id": "71dd4b6b",
   "metadata": {},
   "source": [
    "#### Step 4: Draw a conclusion"
   ]
  },
  {
   "cell_type": "markdown",
   "id": "d2f5b1eb",
   "metadata": {},
   "source": [
    "**Alternatif 1:** Compare t-stat to critical value. If t-stat > |critical value| *(for two tailed test)* --> reject H0  \n",
    "**Alternatif 2:** Compare p-value to alpha. If p-value < alpha --> reject H0  \n",
    "\n",
    "For this case, we cannot reject H0 and conclude that there are not enough reasons to shut the production line down. "
   ]
  },
  {
   "cell_type": "markdown",
   "id": "86ade339",
   "metadata": {},
   "source": [
    "### Statsmodel way"
   ]
  },
  {
   "cell_type": "markdown",
   "id": "f3534221",
   "metadata": {},
   "source": [
    "#### One-sample t-test"
   ]
  },
  {
   "cell_type": "code",
   "execution_count": 42,
   "id": "740ed5c9",
   "metadata": {},
   "outputs": [
    {
     "data": {
      "text/plain": [
       "(-1.1523584392206891, 0.26610119536404553, 16.0)"
      ]
     },
     "execution_count": 42,
     "metadata": {},
     "output_type": "execute_result"
    }
   ],
   "source": [
    "d = sms.DescrStatsW(sample)\n",
    "d.ttest_mean(value=h1_mean, alternative='two-sided')"
   ]
  },
  {
   "cell_type": "markdown",
   "id": "d34ecd77",
   "metadata": {},
   "source": [
    "#### Confidence interval"
   ]
  },
  {
   "cell_type": "code",
   "execution_count": 43,
   "id": "9dd6fdcc",
   "metadata": {
    "scrolled": true
   },
   "outputs": [
    {
     "data": {
      "text/plain": [
       "(1.6096548269507818, 1.6165804671668649)"
      ]
     },
     "execution_count": 43,
     "metadata": {},
     "output_type": "execute_result"
    }
   ],
   "source": [
    "d.tconfint_mean()"
   ]
  },
  {
   "cell_type": "markdown",
   "id": "e27f3f8a",
   "metadata": {},
   "source": [
    "### One sample T-Test (2)"
   ]
  },
  {
   "cell_type": "markdown",
   "id": "ae1de8e7",
   "metadata": {},
   "source": [
    "Using insurance data, check if on average people are overweight.\n",
    "\n",
    "According to CDC, BMI 30 or higher is considered as overweight, so we can write our hypothesis:\n",
    "    \n",
    "-   $H_0: µ = 30$ (\"mean of BMI = 30\")\n",
    "-   $H_1: µ > 30$"
   ]
  },
  {
   "cell_type": "code",
   "execution_count": 44,
   "id": "faff9027",
   "metadata": {},
   "outputs": [
    {
     "data": {
      "text/plain": [
       "(3.9792455329981697, 3.642239160544232e-05, 1337.0)"
      ]
     },
     "execution_count": 44,
     "metadata": {},
     "output_type": "execute_result"
    }
   ],
   "source": [
    "d = sms.DescrStatsW(insurance_df['bmi'])\n",
    "d.ttest_mean(value=30, alternative='larger')"
   ]
  },
  {
   "cell_type": "markdown",
   "id": "abf7a46f",
   "metadata": {},
   "source": [
    "### Two independent sample T-Test"
   ]
  },
  {
   "cell_type": "markdown",
   "id": "6ed9f26f",
   "metadata": {},
   "source": [
    "Using insurance data, does smoking affect BMI (body mass index)?\n",
    "\n",
    "Hyphotesis\n",
    "-   $H_0: µ_1 = µ_2$ (\"there is no difference in BMI between smoker and non-smoker\")\n",
    "-   $H_1: µ_1 ≠ µ_2$ \n"
   ]
  },
  {
   "cell_type": "code",
   "execution_count": 45,
   "id": "c33077f5",
   "metadata": {},
   "outputs": [
    {
     "data": {
      "text/plain": [
       "LeveneResult(statistic=1.1904483299019861, pvalue=0.27543587299708083)"
      ]
     },
     "execution_count": 45,
     "metadata": {},
     "output_type": "execute_result"
    }
   ],
   "source": [
    "# Levene Test to check equity of variance\n",
    "\n",
    "smoker    = insurance_df[insurance_df['smoker'] == 'yes']['bmi']\n",
    "nonsmoker = insurance_df[insurance_df['smoker'] ==  'no']['bmi']\n",
    "\n",
    "scipy.stats.levene(smoker, nonsmoker, center='mean')"
   ]
  },
  {
   "cell_type": "code",
   "execution_count": 46,
   "id": "2d5fc6b6",
   "metadata": {},
   "outputs": [
    {
     "data": {
      "text/plain": [
       "Ttest_indResult(statistic=0.13708403310827058, pvalue=0.8909850280013042)"
      ]
     },
     "execution_count": 46,
     "metadata": {},
     "output_type": "execute_result"
    }
   ],
   "source": [
    "# P-value > 0.05, we assume equal variance\n",
    "scipy.stats.ttest_ind(smoker, nonsmoker, equal_var = True)"
   ]
  },
  {
   "cell_type": "markdown",
   "id": "dda6f991",
   "metadata": {},
   "source": [
    "### Test for proportion"
   ]
  },
  {
   "cell_type": "markdown",
   "id": "42d69590",
   "metadata": {},
   "source": [
    "Using isurance data, can we say that the proportion of smokers between male and female are different?\n",
    "\n",
    "Hypothesis:\n",
    "-   $H_0: p_m = p_f$ (\"proportion of male smokers equal to proportion of female smokers\")\n",
    "-   $H_1: p_m ≠ p_f$ => pm - pf != 0"
   ]
  },
  {
   "cell_type": "code",
   "execution_count": 47,
   "id": "10cd370b",
   "metadata": {},
   "outputs": [],
   "source": [
    "n_male   = insurance_df.sex[insurance_df['sex'] == 'male'].count()\n",
    "n_female = insurance_df.sex[insurance_df['sex'] == 'female'].count()\n",
    "\n",
    "n_male_smoker   = insurance_df.sex[insurance_df['sex'] == 'male'][insurance_df['smoker'] == 'yes'].count()\n",
    "n_female_smoker = insurance_df.sex[insurance_df['sex'] == 'female'][insurance_df['smoker'] == 'yes'].count()"
   ]
  },
  {
   "cell_type": "code",
   "execution_count": null,
   "id": "090576e2",
   "metadata": {},
   "outputs": [],
   "source": [
    "n_male_smoker"
   ]
  },
  {
   "cell_type": "code",
   "execution_count": 48,
   "id": "f472b255",
   "metadata": {},
   "outputs": [
    {
     "data": {
      "text/plain": [
       "(2.7867402154855503, 0.005324114164320532)"
      ]
     },
     "execution_count": 48,
     "metadata": {},
     "output_type": "execute_result"
    }
   ],
   "source": [
    "n_smoker = np.array([n_male_smoker, n_female_smoker])\n",
    "n_gender = np.array([n_male, n_female])\n",
    "h1 = 0 \n",
    "prop.proportions_ztest(count = n_smoker, nobs = n_gender, value=h1)"
   ]
  },
  {
   "cell_type": "markdown",
   "id": "d92f9fce",
   "metadata": {},
   "source": [
    "### ANOVA"
   ]
  },
  {
   "cell_type": "code",
   "execution_count": 49,
   "id": "19d4ab7d",
   "metadata": {},
   "outputs": [
    {
     "data": {
      "text/plain": [
       "LeveneResult(statistic=11.783971980952549, pvalue=1.2760863157648702e-07)"
      ]
     },
     "execution_count": 49,
     "metadata": {},
     "output_type": "execute_result"
    }
   ],
   "source": [
    "ne = insurance_df[insurance_df['region'] == 'northeast']['charges']                                               \n",
    "nw = insurance_df[insurance_df['region'] == 'northwest']['charges']                                               \n",
    "se = insurance_df[insurance_df['region'] == 'southeast']['charges']\n",
    "sw = insurance_df[insurance_df['region'] == 'southwest']['charges']\n",
    "\n",
    "scipy.stats.levene(ne, nw, se, sw, center='mean')"
   ]
  },
  {
   "cell_type": "markdown",
   "id": "1d3d1eda",
   "metadata": {},
   "source": [
    "Levene test\n",
    "\n",
    "H0 : V1 = V2 = V3 = V4  \n",
    "H1 : at least ada 1 variance yg beda   \n",
    "\n",
    "pvalue = 1.2760863157648702e-07\n",
    "alpha = 0.05"
   ]
  },
  {
   "cell_type": "markdown",
   "id": "98493262",
   "metadata": {},
   "source": [
    "**Note:** ANOVA assume equity of variance (homoscedasticity). Because pvalue is so small, this assumption can not be fullfiled, hence ANOVA theoritically can not be used. "
   ]
  },
  {
   "cell_type": "code",
   "execution_count": 50,
   "id": "d42cb05e",
   "metadata": {},
   "outputs": [
    {
     "data": {
      "text/plain": [
       "F_onewayResult(statistic=2.9696266935891193, pvalue=0.0308933560705201)"
      ]
     },
     "execution_count": 50,
     "metadata": {},
     "output_type": "execute_result"
    }
   ],
   "source": [
    "scipy.stats.f_oneway(ne, nw, se, sw)"
   ]
  },
  {
   "cell_type": "markdown",
   "id": "b5fc5184",
   "metadata": {},
   "source": [
    "**Note**: For two sample test with equal variance, ANOVA and t-test will draw same conclussion"
   ]
  },
  {
   "cell_type": "code",
   "execution_count": 51,
   "id": "8595ad05",
   "metadata": {},
   "outputs": [
    {
     "data": {
      "text/plain": [
       "Ttest_indResult(statistic=0.13708403310827058, pvalue=0.8909850280013042)"
      ]
     },
     "execution_count": 51,
     "metadata": {},
     "output_type": "execute_result"
    }
   ],
   "source": [
    "scipy.stats.ttest_ind(smoker, nonsmoker, equal_var = True)"
   ]
  },
  {
   "cell_type": "code",
   "execution_count": 52,
   "id": "945a08b2",
   "metadata": {},
   "outputs": [
    {
     "data": {
      "text/plain": [
       "F_onewayResult(statistic=0.01879203213322952, pvalue=0.8909850280013468)"
      ]
     },
     "execution_count": 52,
     "metadata": {},
     "output_type": "execute_result"
    }
   ],
   "source": [
    "scipy.stats.f_oneway(smoker, nonsmoker)"
   ]
  },
  {
   "cell_type": "markdown",
   "id": "50461532",
   "metadata": {},
   "source": [
    "# 4. Association and correlation"
   ]
  },
  {
   "cell_type": "markdown",
   "id": "211df413",
   "metadata": {},
   "source": [
    "### Chi-Squared Test: Association between two categorical variables"
   ]
  },
  {
   "cell_type": "markdown",
   "id": "bc894ecf",
   "metadata": {},
   "source": [
    "Using insurance data, is there an association between gender and smoker?\n",
    "\n",
    "-   $H_0$ : no association between gender and smoker\n",
    "-   $H_1$ : there is an association between gender and smoker"
   ]
  },
  {
   "cell_type": "code",
   "execution_count": 53,
   "id": "24f373fb",
   "metadata": {},
   "outputs": [],
   "source": [
    "gender_smoker_table = pd.crosstab(insurance_df.sex, insurance_df.smoker)\n",
    "#gender_smoker_table = pd.crosstab(insurance_df.sex, insurance_df.smoker, margins=True, margins_name='Total')"
   ]
  },
  {
   "cell_type": "code",
   "execution_count": 54,
   "id": "90480caf",
   "metadata": {},
   "outputs": [
    {
     "data": {
      "text/plain": [
       "(7.39291081459996,\n",
       " 0.006548143503580696,\n",
       " 1,\n",
       " array([[526.43348281, 135.56651719],\n",
       "        [537.56651719, 138.43348281]]))"
      ]
     },
     "execution_count": 54,
     "metadata": {},
     "output_type": "execute_result"
    }
   ],
   "source": [
    "scipy.stats.chi2_contingency(gender_smoker_table, correction = True)"
   ]
  },
  {
   "cell_type": "markdown",
   "id": "00161e96",
   "metadata": {},
   "source": [
    "### Pearson's r test: Correlation between two numerical variables"
   ]
  },
  {
   "cell_type": "markdown",
   "id": "51f1e19b",
   "metadata": {},
   "source": [
    "Using insurance data, is there an correlation between age and total charges?\n",
    "\n",
    "-   $H_0 : r = 0$ : no correlation between age and total charges\n",
    "-   $H_1 : r ≠ 0$ : there is a correlation between age and total charges"
   ]
  },
  {
   "cell_type": "code",
   "execution_count": 55,
   "id": "a73cf8d5",
   "metadata": {},
   "outputs": [
    {
     "data": {
      "image/png": "[encoded data removed]",
      "text/plain": [
       "<Figure size 432x288 with 1 Axes>"
      ]
     },
     "metadata": {
      "needs_background": "light"
     },
     "output_type": "display_data"
    }
   ],
   "source": [
    "ax = sns.scatterplot(x='age', y='charges', data=insurance_df)"
   ]
  },
  {
   "cell_type": "code",
   "execution_count": 56,
   "id": "3a2b6c2d",
   "metadata": {},
   "outputs": [
    {
     "data": {
      "text/plain": [
       "(0.2990081933306476, 4.8866933317203816e-29)"
      ]
     },
     "execution_count": 56,
     "metadata": {},
     "output_type": "execute_result"
    }
   ],
   "source": [
    "scipy.stats.pearsonr(insurance_df['age'], insurance_df['charges'])"
   ]
  },
  {
   "cell_type": "code",
   "execution_count": 57,
   "id": "88eefaf2",
   "metadata": {},
   "outputs": [
    {
     "data": {
      "text/html": [
       "<div>\n",
       "<style scoped>\n",
       "    .dataframe tbody tr th:only-of-type {\n",
       "        vertical-align: middle;\n",
       "    }\n",
       "\n",
       "    .dataframe tbody tr th {\n",
       "        vertical-align: top;\n",
       "    }\n",
       "\n",
       "    .dataframe thead th {\n",
       "        text-align: right;\n",
       "    }\n",
       "</style>\n",
       "<table border=\"1\" class=\"dataframe\">\n",
       "  <thead>\n",
       "    <tr style=\"text-align: right;\">\n",
       "      <th></th>\n",
       "      <th>age</th>\n",
       "      <th>bmi</th>\n",
       "      <th>children</th>\n",
       "      <th>charges</th>\n",
       "    </tr>\n",
       "  </thead>\n",
       "  <tbody>\n",
       "    <tr>\n",
       "      <th>age</th>\n",
       "      <td>1.000000</td>\n",
       "      <td>0.109272</td>\n",
       "      <td>0.042469</td>\n",
       "      <td>0.299008</td>\n",
       "    </tr>\n",
       "    <tr>\n",
       "      <th>bmi</th>\n",
       "      <td>0.109272</td>\n",
       "      <td>1.000000</td>\n",
       "      <td>0.012759</td>\n",
       "      <td>0.198341</td>\n",
       "    </tr>\n",
       "    <tr>\n",
       "      <th>children</th>\n",
       "      <td>0.042469</td>\n",
       "      <td>0.012759</td>\n",
       "      <td>1.000000</td>\n",
       "      <td>0.067998</td>\n",
       "    </tr>\n",
       "    <tr>\n",
       "      <th>charges</th>\n",
       "      <td>0.299008</td>\n",
       "      <td>0.198341</td>\n",
       "      <td>0.067998</td>\n",
       "      <td>1.000000</td>\n",
       "    </tr>\n",
       "  </tbody>\n",
       "</table>\n",
       "</div>"
      ],
      "text/plain": [
       "               age       bmi  children   charges\n",
       "age       1.000000  0.109272  0.042469  0.299008\n",
       "bmi       0.109272  1.000000  0.012759  0.198341\n",
       "children  0.042469  0.012759  1.000000  0.067998\n",
       "charges   0.299008  0.198341  0.067998  1.000000"
      ]
     },
     "execution_count": 57,
     "metadata": {},
     "output_type": "execute_result"
    }
   ],
   "source": [
    "# calculate correlation coefficients across all numerical variables in panda's dataframe\n",
    "corr = insurance_df.corr()\n",
    "corr"
   ]
  },
  {
   "cell_type": "code",
   "execution_count": 58,
   "id": "62bc8b30",
   "metadata": {},
   "outputs": [
    {
     "data": {
      "text/plain": [
       "<matplotlib.axes._subplots.AxesSubplot at 0x1eb3ab2b4f0>"
      ]
     },
     "execution_count": 58,
     "metadata": {},
     "output_type": "execute_result"
    },
    {
     "data": {
      "image/png": "[encoded data removed]",
      "text/plain": [
       "<Figure size 432x288 with 2 Axes>"
      ]
     },
     "metadata": {
      "needs_background": "light"
     },
     "output_type": "display_data"
    }
   ],
   "source": [
    "sns.heatmap(corr, \n",
    "        xticklabels=corr.columns,\n",
    "        yticklabels=corr.columns)"
   ]
  },
  {
   "cell_type": "markdown",
   "id": "08888f89",
   "metadata": {},
   "source": [
    "# 5. Linear regression"
   ]
  },
  {
   "cell_type": "markdown",
   "id": "b59ba9b2",
   "metadata": {},
   "source": [
    "### Simple linear regression"
   ]
  },
  {
   "cell_type": "markdown",
   "id": "1898d7ce",
   "metadata": {},
   "source": [
    "Using insurance data, check if age affects total charges and write formula to predict total charges base on age."
   ]
  },
  {
   "cell_type": "code",
   "execution_count": 59,
   "id": "7d36373e",
   "metadata": {},
   "outputs": [
    {
     "name": "stderr",
     "output_type": "stream",
     "text": [
      "C:\\Users\\nuran\\anaconda3\\lib\\site-packages\\numpy\\core\\fromnumeric.py:2580: FutureWarning: Method .ptp is deprecated and will be removed in a future version. Use numpy.ptp instead.\n",
      "  return ptp(axis=axis, out=out, **kwargs)\n"
     ]
    },
    {
     "data": {
      "text/html": [
       "<table class=\"simpletable\">\n",
       "<caption>OLS Regression Results</caption>\n",
       "<tr>\n",
       "  <th>Dep. Variable:</th>         <td>charges</td>     <th>  R-squared:         </th> <td>   0.089</td> \n",
       "</tr>\n",
       "<tr>\n",
       "  <th>Model:</th>                   <td>OLS</td>       <th>  Adj. R-squared:    </th> <td>   0.089</td> \n",
       "</tr>\n",
       "<tr>\n",
       "  <th>Method:</th>             <td>Least Squares</td>  <th>  F-statistic:       </th> <td>   131.2</td> \n",
       "</tr>\n",
       "<tr>\n",
       "  <th>Date:</th>             <td>Fri, 09 Jul 2021</td> <th>  Prob (F-statistic):</th> <td>4.89e-29</td> \n",
       "</tr>\n",
       "<tr>\n",
       "  <th>Time:</th>                 <td>18:56:18</td>     <th>  Log-Likelihood:    </th> <td> -14415.</td> \n",
       "</tr>\n",
       "<tr>\n",
       "  <th>No. Observations:</th>      <td>  1338</td>      <th>  AIC:               </th> <td>2.883e+04</td>\n",
       "</tr>\n",
       "<tr>\n",
       "  <th>Df Residuals:</th>          <td>  1336</td>      <th>  BIC:               </th> <td>2.884e+04</td>\n",
       "</tr>\n",
       "<tr>\n",
       "  <th>Df Model:</th>              <td>     1</td>      <th>                     </th>     <td> </td>    \n",
       "</tr>\n",
       "<tr>\n",
       "  <th>Covariance Type:</th>      <td>nonrobust</td>    <th>                     </th>     <td> </td>    \n",
       "</tr>\n",
       "</table>\n",
       "<table class=\"simpletable\">\n",
       "<tr>\n",
       "    <td></td>       <th>coef</th>     <th>std err</th>      <th>t</th>      <th>P>|t|</th>  <th>[0.025</th>    <th>0.975]</th>  \n",
       "</tr>\n",
       "<tr>\n",
       "  <th>const</th> <td> 3165.8850</td> <td>  937.149</td> <td>    3.378</td> <td> 0.001</td> <td> 1327.440</td> <td> 5004.330</td>\n",
       "</tr>\n",
       "<tr>\n",
       "  <th>age</th>   <td>  257.7226</td> <td>   22.502</td> <td>   11.453</td> <td> 0.000</td> <td>  213.579</td> <td>  301.866</td>\n",
       "</tr>\n",
       "</table>\n",
       "<table class=\"simpletable\">\n",
       "<tr>\n",
       "  <th>Omnibus:</th>       <td>399.600</td> <th>  Durbin-Watson:     </th> <td>   2.033</td> \n",
       "</tr>\n",
       "<tr>\n",
       "  <th>Prob(Omnibus):</th> <td> 0.000</td>  <th>  Jarque-Bera (JB):  </th> <td> 864.239</td> \n",
       "</tr>\n",
       "<tr>\n",
       "  <th>Skew:</th>          <td> 1.733</td>  <th>  Prob(JB):          </th> <td>2.15e-188</td>\n",
       "</tr>\n",
       "<tr>\n",
       "  <th>Kurtosis:</th>      <td> 4.869</td>  <th>  Cond. No.          </th> <td>    124.</td> \n",
       "</tr>\n",
       "</table><br/><br/>Notes:<br/>[1] Standard Errors assume that the covariance matrix of the errors is correctly specified."
      ],
      "text/plain": [
       "<class 'statsmodels.iolib.summary.Summary'>\n",
       "\"\"\"\n",
       "                            OLS Regression Results                            \n",
       "==============================================================================\n",
       "Dep. Variable:                charges   R-squared:                       0.089\n",
       "Model:                            OLS   Adj. R-squared:                  0.089\n",
       "Method:                 Least Squares   F-statistic:                     131.2\n",
       "Date:                Fri, 09 Jul 2021   Prob (F-statistic):           4.89e-29\n",
       "Time:                        18:56:18   Log-Likelihood:                -14415.\n",
       "No. Observations:                1338   AIC:                         2.883e+04\n",
       "Df Residuals:                    1336   BIC:                         2.884e+04\n",
       "Df Model:                           1                                         \n",
       "Covariance Type:            nonrobust                                         \n",
       "==============================================================================\n",
       "                 coef    std err          t      P>|t|      [0.025      0.975]\n",
       "------------------------------------------------------------------------------\n",
       "const       3165.8850    937.149      3.378      0.001    1327.440    5004.330\n",
       "age          257.7226     22.502     11.453      0.000     213.579     301.866\n",
       "==============================================================================\n",
       "Omnibus:                      399.600   Durbin-Watson:                   2.033\n",
       "Prob(Omnibus):                  0.000   Jarque-Bera (JB):              864.239\n",
       "Skew:                           1.733   Prob(JB):                    2.15e-188\n",
       "Kurtosis:                       4.869   Cond. No.                         124.\n",
       "==============================================================================\n",
       "\n",
       "Notes:\n",
       "[1] Standard Errors assume that the covariance matrix of the errors is correctly specified.\n",
       "\"\"\""
      ]
     },
     "execution_count": 59,
     "metadata": {},
     "output_type": "execute_result"
    }
   ],
   "source": [
    "X = insurance_df['age']\n",
    "# X = insurance_df['age'].values\n",
    "y = insurance_df['charges']\n",
    "X = sm.add_constant(X) \n",
    "\n",
    "model = sm.OLS(y, X).fit()\n",
    "model.summary()"
   ]
  },
  {
   "cell_type": "markdown",
   "id": "41102714",
   "metadata": {},
   "source": [
    "From the summary above, we can write a regression equation:\n",
    "    \n",
    "$charges = 3165.89 + 257.72*age + error$\n",
    "\n",
    "Means, every one year increase in age will increase total charge by 257.72"
   ]
  },
  {
   "cell_type": "markdown",
   "id": "b5ac6abf",
   "metadata": {},
   "source": [
    "### Multiple linear regression"
   ]
  },
  {
   "cell_type": "code",
   "execution_count": 61,
   "id": "533604c0",
   "metadata": {},
   "outputs": [
    {
     "data": {
      "text/html": [
       "<div>\n",
       "<style scoped>\n",
       "    .dataframe tbody tr th:only-of-type {\n",
       "        vertical-align: middle;\n",
       "    }\n",
       "\n",
       "    .dataframe tbody tr th {\n",
       "        vertical-align: top;\n",
       "    }\n",
       "\n",
       "    .dataframe thead th {\n",
       "        text-align: right;\n",
       "    }\n",
       "</style>\n",
       "<table border=\"1\" class=\"dataframe\">\n",
       "  <thead>\n",
       "    <tr style=\"text-align: right;\">\n",
       "      <th></th>\n",
       "      <th>age</th>\n",
       "      <th>sex</th>\n",
       "      <th>bmi</th>\n",
       "      <th>children</th>\n",
       "      <th>smoker</th>\n",
       "      <th>region</th>\n",
       "      <th>charges</th>\n",
       "    </tr>\n",
       "  </thead>\n",
       "  <tbody>\n",
       "    <tr>\n",
       "      <th>0</th>\n",
       "      <td>19</td>\n",
       "      <td>female</td>\n",
       "      <td>27.900</td>\n",
       "      <td>0</td>\n",
       "      <td>yes</td>\n",
       "      <td>southwest</td>\n",
       "      <td>16884.92400</td>\n",
       "    </tr>\n",
       "    <tr>\n",
       "      <th>1</th>\n",
       "      <td>18</td>\n",
       "      <td>male</td>\n",
       "      <td>33.770</td>\n",
       "      <td>1</td>\n",
       "      <td>no</td>\n",
       "      <td>southeast</td>\n",
       "      <td>1725.55230</td>\n",
       "    </tr>\n",
       "    <tr>\n",
       "      <th>2</th>\n",
       "      <td>28</td>\n",
       "      <td>male</td>\n",
       "      <td>33.000</td>\n",
       "      <td>3</td>\n",
       "      <td>no</td>\n",
       "      <td>southeast</td>\n",
       "      <td>4449.46200</td>\n",
       "    </tr>\n",
       "    <tr>\n",
       "      <th>3</th>\n",
       "      <td>33</td>\n",
       "      <td>male</td>\n",
       "      <td>22.705</td>\n",
       "      <td>0</td>\n",
       "      <td>no</td>\n",
       "      <td>northwest</td>\n",
       "      <td>21984.47061</td>\n",
       "    </tr>\n",
       "    <tr>\n",
       "      <th>4</th>\n",
       "      <td>32</td>\n",
       "      <td>male</td>\n",
       "      <td>28.880</td>\n",
       "      <td>0</td>\n",
       "      <td>no</td>\n",
       "      <td>northwest</td>\n",
       "      <td>3866.85520</td>\n",
       "    </tr>\n",
       "  </tbody>\n",
       "</table>\n",
       "</div>"
      ],
      "text/plain": [
       "   age     sex     bmi  children smoker     region      charges\n",
       "0   19  female  27.900         0    yes  southwest  16884.92400\n",
       "1   18    male  33.770         1     no  southeast   1725.55230\n",
       "2   28    male  33.000         3     no  southeast   4449.46200\n",
       "3   33    male  22.705         0     no  northwest  21984.47061\n",
       "4   32    male  28.880         0     no  northwest   3866.85520"
      ]
     },
     "execution_count": 61,
     "metadata": {},
     "output_type": "execute_result"
    }
   ],
   "source": [
    "insurance_df.head()"
   ]
  },
  {
   "cell_type": "code",
   "execution_count": 62,
   "id": "1a8f9672",
   "metadata": {},
   "outputs": [],
   "source": [
    "reg_dummy   = pd.get_dummies(insurance_df[['region']], drop_first=True)\n",
    "sex_dummy   = pd.get_dummies(insurance_df[['sex']], drop_first=True)\n",
    "smoke_dummy = pd.get_dummies(insurance_df[['smoker']], drop_first=True)"
   ]
  },
  {
   "cell_type": "code",
   "execution_count": 63,
   "id": "3788ecd2",
   "metadata": {},
   "outputs": [
    {
     "name": "stderr",
     "output_type": "stream",
     "text": [
      "C:\\Users\\nuran\\anaconda3\\lib\\site-packages\\numpy\\core\\fromnumeric.py:2580: FutureWarning: Method .ptp is deprecated and will be removed in a future version. Use numpy.ptp instead.\n",
      "  return ptp(axis=axis, out=out, **kwargs)\n"
     ]
    },
    {
     "data": {
      "text/html": [
       "<table class=\"simpletable\">\n",
       "<caption>OLS Regression Results</caption>\n",
       "<tr>\n",
       "  <th>Dep. Variable:</th>         <td>charges</td>     <th>  R-squared:         </th> <td>   0.664</td> \n",
       "</tr>\n",
       "<tr>\n",
       "  <th>Model:</th>                   <td>OLS</td>       <th>  Adj. R-squared:    </th> <td>   0.662</td> \n",
       "</tr>\n",
       "<tr>\n",
       "  <th>Method:</th>             <td>Least Squares</td>  <th>  F-statistic:       </th> <td>   374.8</td> \n",
       "</tr>\n",
       "<tr>\n",
       "  <th>Date:</th>             <td>Fri, 09 Jul 2021</td> <th>  Prob (F-statistic):</th> <td>2.97e-309</td>\n",
       "</tr>\n",
       "<tr>\n",
       "  <th>Time:</th>                 <td>19:02:02</td>     <th>  Log-Likelihood:    </th> <td> -13749.</td> \n",
       "</tr>\n",
       "<tr>\n",
       "  <th>No. Observations:</th>      <td>  1338</td>      <th>  AIC:               </th> <td>2.751e+04</td>\n",
       "</tr>\n",
       "<tr>\n",
       "  <th>Df Residuals:</th>          <td>  1330</td>      <th>  BIC:               </th> <td>2.756e+04</td>\n",
       "</tr>\n",
       "<tr>\n",
       "  <th>Df Model:</th>              <td>     7</td>      <th>                     </th>     <td> </td>    \n",
       "</tr>\n",
       "<tr>\n",
       "  <th>Covariance Type:</th>      <td>nonrobust</td>    <th>                     </th>     <td> </td>    \n",
       "</tr>\n",
       "</table>\n",
       "<table class=\"simpletable\">\n",
       "<tr>\n",
       "          <td></td>            <th>coef</th>     <th>std err</th>      <th>t</th>      <th>P>|t|</th>  <th>[0.025</th>    <th>0.975]</th>  \n",
       "</tr>\n",
       "<tr>\n",
       "  <th>const</th>            <td>-3952.9723</td> <td> 1064.068</td> <td>   -3.715</td> <td> 0.000</td> <td>-6040.407</td> <td>-1865.538</td>\n",
       "</tr>\n",
       "<tr>\n",
       "  <th>bmi</th>              <td>  411.2700</td> <td>   32.998</td> <td>   12.464</td> <td> 0.000</td> <td>  346.537</td> <td>  476.003</td>\n",
       "</tr>\n",
       "<tr>\n",
       "  <th>children</th>         <td>  597.4632</td> <td>  159.956</td> <td>    3.735</td> <td> 0.000</td> <td>  283.669</td> <td>  911.257</td>\n",
       "</tr>\n",
       "<tr>\n",
       "  <th>region_northwest</th> <td> -392.3686</td> <td>  553.299</td> <td>   -0.709</td> <td> 0.478</td> <td>-1477.802</td> <td>  693.065</td>\n",
       "</tr>\n",
       "<tr>\n",
       "  <th>region_southeast</th> <td>-1410.2693</td> <td>  555.743</td> <td>   -2.538</td> <td> 0.011</td> <td>-2500.498</td> <td> -320.040</td>\n",
       "</tr>\n",
       "<tr>\n",
       "  <th>region_southwest</th> <td>-1031.8915</td> <td>  555.215</td> <td>   -1.859</td> <td> 0.063</td> <td>-2121.083</td> <td>   57.300</td>\n",
       "</tr>\n",
       "<tr>\n",
       "  <th>sex_male</th>         <td> -310.8509</td> <td>  386.671</td> <td>   -0.804</td> <td> 0.422</td> <td>-1069.403</td> <td>  447.701</td>\n",
       "</tr>\n",
       "<tr>\n",
       "  <th>smoker_yes</th>       <td> 2.366e+04</td> <td>  479.863</td> <td>   49.303</td> <td> 0.000</td> <td> 2.27e+04</td> <td> 2.46e+04</td>\n",
       "</tr>\n",
       "</table>\n",
       "<table class=\"simpletable\">\n",
       "<tr>\n",
       "  <th>Omnibus:</th>       <td>162.572</td> <th>  Durbin-Watson:     </th> <td>   2.043</td>\n",
       "</tr>\n",
       "<tr>\n",
       "  <th>Prob(Omnibus):</th> <td> 0.000</td>  <th>  Jarque-Bera (JB):  </th> <td> 258.818</td>\n",
       "</tr>\n",
       "<tr>\n",
       "  <th>Skew:</th>          <td> 0.833</td>  <th>  Prob(JB):          </th> <td>6.28e-57</td>\n",
       "</tr>\n",
       "<tr>\n",
       "  <th>Kurtosis:</th>      <td> 4.366</td>  <th>  Cond. No.          </th> <td>    178.</td>\n",
       "</tr>\n",
       "</table><br/><br/>Notes:<br/>[1] Standard Errors assume that the covariance matrix of the errors is correctly specified."
      ],
      "text/plain": [
       "<class 'statsmodels.iolib.summary.Summary'>\n",
       "\"\"\"\n",
       "                            OLS Regression Results                            \n",
       "==============================================================================\n",
       "Dep. Variable:                charges   R-squared:                       0.664\n",
       "Model:                            OLS   Adj. R-squared:                  0.662\n",
       "Method:                 Least Squares   F-statistic:                     374.8\n",
       "Date:                Fri, 09 Jul 2021   Prob (F-statistic):          2.97e-309\n",
       "Time:                        19:02:02   Log-Likelihood:                -13749.\n",
       "No. Observations:                1338   AIC:                         2.751e+04\n",
       "Df Residuals:                    1330   BIC:                         2.756e+04\n",
       "Df Model:                           7                                         \n",
       "Covariance Type:            nonrobust                                         \n",
       "====================================================================================\n",
       "                       coef    std err          t      P>|t|      [0.025      0.975]\n",
       "------------------------------------------------------------------------------------\n",
       "const            -3952.9723   1064.068     -3.715      0.000   -6040.407   -1865.538\n",
       "bmi                411.2700     32.998     12.464      0.000     346.537     476.003\n",
       "children           597.4632    159.956      3.735      0.000     283.669     911.257\n",
       "region_northwest  -392.3686    553.299     -0.709      0.478   -1477.802     693.065\n",
       "region_southeast -1410.2693    555.743     -2.538      0.011   -2500.498    -320.040\n",
       "region_southwest -1031.8915    555.215     -1.859      0.063   -2121.083      57.300\n",
       "sex_male          -310.8509    386.671     -0.804      0.422   -1069.403     447.701\n",
       "smoker_yes        2.366e+04    479.863     49.303      0.000    2.27e+04    2.46e+04\n",
       "==============================================================================\n",
       "Omnibus:                      162.572   Durbin-Watson:                   2.043\n",
       "Prob(Omnibus):                  0.000   Jarque-Bera (JB):              258.818\n",
       "Skew:                           0.833   Prob(JB):                     6.28e-57\n",
       "Kurtosis:                       4.366   Cond. No.                         178.\n",
       "==============================================================================\n",
       "\n",
       "Notes:\n",
       "[1] Standard Errors assume that the covariance matrix of the errors is correctly specified.\n",
       "\"\"\""
      ]
     },
     "execution_count": 63,
     "metadata": {},
     "output_type": "execute_result"
    }
   ],
   "source": [
    "Xs = pd.concat([insurance_df[['bmi', 'children']], reg_dummy, sex_dummy, smoke_dummy], axis=1)\n",
    "y = insurance_df['charges']\n",
    "Xs = sm.add_constant(Xs) \n",
    "\n",
    "model = sm.OLS(y, Xs).fit()\n",
    "model.summary()"
   ]
  },
  {
   "cell_type": "markdown",
   "id": "34cd5c8d",
   "metadata": {},
   "source": [
    "Assumptions for linear regression:  \n",
    "- **Linearity**: The relationship between X and the mean of Y is linear.\n",
    "- **Homoscedasticity**: The variance of residual is the same for any value of X.\n",
    "- **Independence**: Observations are independent of each other.\n",
    "- **Normality**: For any fixed value of X, Y is normally distributed."
   ]
  },
  {
   "cell_type": "markdown",
   "id": "fe69cf98",
   "metadata": {},
   "source": [
    "Interpreting coeficient for dummy variables:  \n",
    "- region_northwest = -392.3686 : total charge for northwest region is 392.37 lower than northest (reference)\n",
    "- sex_male = -310.8509 : total charge for males is 310.85 lower than females (reference)\n",
    "- smoker_yes = 2.366e+04 : total charge for smokers is 23,660 higher than non-smokers"
   ]
  },
  {
   "cell_type": "markdown",
   "id": "9410efd2",
   "metadata": {},
   "source": [
    "---\n",
    "Prepared for TelkomAthon Batch 2 Telkom Indonesia (Stream Data Science)  \n",
    "Data source: Insurance data is taken from [kaggle](https://www.kaggle.com/mirichoi0218/insurance/)"
   ]
  },
  {
   "cell_type": "code",
   "execution_count": null,
   "id": "db2fa560",
   "metadata": {},
   "outputs": [],
   "source": []
  }
 ],
 "metadata": {
  "kernelspec": {
   "display_name": "Python 3",
   "language": "python",
   "name": "python3"
  },
  "language_info": {
   "codemirror_mode": {
    "name": "ipython",
    "version": 3
   },
   "file_extension": ".py",
   "mimetype": "text/x-python",
   "name": "python",
   "nbconvert_exporter": "python",
   "pygments_lexer": "ipython3",
   "version": "3.8.8"
  }
 },
 "nbformat": 4,
 "nbformat_minor": 5
}

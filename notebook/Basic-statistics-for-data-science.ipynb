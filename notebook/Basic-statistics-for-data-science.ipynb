{
 "cells": [
  {
   "cell_type": "markdown",
   "id": "0a1a2eba",
   "metadata": {},
   "source": [
    "# Basic Statistics for Data Science (with Python)"
   ]
  },
  {
   "cell_type": "markdown",
   "id": "e0ed278b",
   "metadata": {},
   "source": [
    "# 1. Descriptive Statistics and Visualization"
   ]
  },
  {
   "cell_type": "code",
   "execution_count": null,
   "id": "2d2721f4",
   "metadata": {},
   "outputs": [],
   "source": [
    "import numpy as np\n",
    "import pandas as pd\n",
    "import matplotlib.pyplot as pyplot"
   ]
  }
 ],
 "metadata": {
  "kernelspec": {
   "display_name": "Python 3",
   "language": "python",
   "name": "python3"
  },
  "language_info": {
   "codemirror_mode": {
    "name": "ipython",
    "version": 3
   },
   "file_extension": ".py",
   "mimetype": "text/x-python",
   "name": "python",
   "nbconvert_exporter": "python",
   "pygments_lexer": "ipython3",
   "version": "3.8.8"
  }
 },
 "nbformat": 4,
 "nbformat_minor": 5
}

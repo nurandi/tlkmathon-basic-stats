{
 "cells": [
  {
   "cell_type": "markdown",
   "id": "5dc243d0",
   "metadata": {},
   "source": [
    "# Basic Statistics for Data Science (with Python)"
   ]
  },
  {
   "cell_type": "markdown",
   "id": "715977a3",
   "metadata": {},
   "source": [
    "# 1. Descriptive Statistics and Visualization"
   ]
  },
  {
   "cell_type": "code",
   "execution_count": null,
   "id": "2ae38733",
   "metadata": {},
   "outputs": [],
   "source": [
    "import numpy as np\n",
    "import pandas as pd\n",
    "import matplotlib.pyplot as plt\n",
    "import seaborn as sns\n",
    "from math import sqrt\n",
    "import scipy.stats\n",
    "\n",
    "import statsmodels.api as sm\n",
    "import statsmodels.stats.weightstats as sms\n",
    "import statsmodels.stats.proportion as prop"
   ]
  },
  {
   "cell_type": "markdown",
   "id": "a4108242",
   "metadata": {},
   "source": [
    "## Read data"
   ]
  },
  {
   "cell_type": "code",
   "execution_count": null,
   "id": "78f13886",
   "metadata": {},
   "outputs": [],
   "source": [
    "data_url = \"https://raw.githubusercontent.com/nurandi/tlkmathon-basic-stats/main/data/insurance.csv\"\n",
    "insurance_df = pd.read_csv(data_url)"
   ]
  },
  {
   "cell_type": "markdown",
   "id": "01d431ce",
   "metadata": {},
   "source": [
    "## Basic Stat"
   ]
  },
  {
   "cell_type": "code",
   "execution_count": null,
   "id": "61836aee",
   "metadata": {},
   "outputs": [],
   "source": [
    "insurance_df.info()"
   ]
  },
  {
   "cell_type": "code",
   "execution_count": null,
   "id": "15144186",
   "metadata": {},
   "outputs": [],
   "source": [
    "insurance_df.shape"
   ]
  },
  {
   "cell_type": "code",
   "execution_count": null,
   "id": "1d47fb63",
   "metadata": {},
   "outputs": [],
   "source": [
    "insurance_df.head()"
   ]
  },
  {
   "cell_type": "code",
   "execution_count": null,
   "id": "17a34ef0",
   "metadata": {},
   "outputs": [],
   "source": [
    "insurance_df.describe()"
   ]
  },
  {
   "cell_type": "code",
   "execution_count": null,
   "id": "843ed5d0",
   "metadata": {},
   "outputs": [],
   "source": [
    "insurance_df['age'].mean()"
   ]
  },
  {
   "cell_type": "code",
   "execution_count": null,
   "id": "68143014",
   "metadata": {},
   "outputs": [],
   "source": [
    "insurance_df['age'].std()"
   ]
  },
  {
   "cell_type": "code",
   "execution_count": null,
   "id": "e9cb6230",
   "metadata": {},
   "outputs": [],
   "source": [
    "insurance_df['age'].median()"
   ]
  },
  {
   "cell_type": "code",
   "execution_count": null,
   "id": "77409ef2",
   "metadata": {},
   "outputs": [],
   "source": [
    "insurance_df['age'].min()"
   ]
  },
  {
   "cell_type": "code",
   "execution_count": null,
   "id": "a2dab69f",
   "metadata": {},
   "outputs": [],
   "source": [
    "insurance_df['age'].max()"
   ]
  },
  {
   "cell_type": "code",
   "execution_count": null,
   "id": "a7e104f6",
   "metadata": {
    "scrolled": true
   },
   "outputs": [],
   "source": [
    "insurance_df.groupby('sex').agg({'age':['mean', 'std', 'var', 'count']}).reset_index()"
   ]
  },
  {
   "cell_type": "code",
   "execution_count": null,
   "id": "06141647",
   "metadata": {},
   "outputs": [],
   "source": [
    "smoker_count = insurance_df.groupby('sex').agg({'smoker': 'count'}).reset_index()\n",
    "smoker_count"
   ]
  },
  {
   "cell_type": "code",
   "execution_count": null,
   "id": "367368e7",
   "metadata": {},
   "outputs": [],
   "source": [
    "smoker_count['percentage'] = 100 * smoker_count.smoker/smoker_count.smoker.sum()\n",
    "smoker_count"
   ]
  },
  {
   "cell_type": "code",
   "execution_count": null,
   "id": "fde0afea",
   "metadata": {},
   "outputs": [],
   "source": [
    "pd.crosstab(insurance_df.sex, insurance_df.smoker)"
   ]
  },
  {
   "cell_type": "code",
   "execution_count": null,
   "id": "c02595ad",
   "metadata": {},
   "outputs": [],
   "source": [
    "pd.crosstab(insurance_df.sex, insurance_df.smoker, margins=True, margins_name='Total')"
   ]
  },
  {
   "cell_type": "markdown",
   "id": "13e1f52f",
   "metadata": {},
   "source": [
    "## Data Viz"
   ]
  },
  {
   "cell_type": "code",
   "execution_count": null,
   "id": "f3566e08",
   "metadata": {},
   "outputs": [],
   "source": [
    "sex_charges = insurance_df.groupby('sex')[['charges']].mean().reset_index()"
   ]
  },
  {
   "cell_type": "code",
   "execution_count": null,
   "id": "40fae55b",
   "metadata": {},
   "outputs": [],
   "source": [
    "ax = sns.barplot(x='sex', y='charges', data=sex_charges)"
   ]
  },
  {
   "cell_type": "code",
   "execution_count": null,
   "id": "2d3ad884",
   "metadata": {
    "scrolled": true
   },
   "outputs": [],
   "source": [
    "ax = sns.histplot(insurance_df['bmi'])"
   ]
  },
  {
   "cell_type": "code",
   "execution_count": null,
   "id": "16a81e37",
   "metadata": {},
   "outputs": [],
   "source": [
    "ax = sns.scatterplot(x='age', y='charges', data=insurance_df)"
   ]
  },
  {
   "cell_type": "code",
   "execution_count": null,
   "id": "f1b7df1e",
   "metadata": {},
   "outputs": [],
   "source": [
    "ax = sns.boxplot(y='charges', data=insurance_df)"
   ]
  },
  {
   "cell_type": "code",
   "execution_count": null,
   "id": "2f3d20cd",
   "metadata": {},
   "outputs": [],
   "source": [
    "ax = sns.boxplot(x='sex', y=\"charges\", data=insurance_df)"
   ]
  },
  {
   "cell_type": "markdown",
   "id": "006cc83c",
   "metadata": {},
   "source": [
    "# 2. Probability Distribution"
   ]
  },
  {
   "cell_type": "markdown",
   "id": "c83125bd",
   "metadata": {},
   "source": [
    "**From PPT:** The weights of adult-males are known to be normally distributed with a mean of 70 kgs and a standard deviation of 13 kgs. Find the percentage of adult-males with weights less than 80 kgs"
   ]
  },
  {
   "cell_type": "code",
   "execution_count": null,
   "id": "b5a532d3",
   "metadata": {},
   "outputs": [],
   "source": [
    "weight_mean = 70\n",
    "weight_stdev = 13\n",
    "x0 = 80"
   ]
  },
  {
   "cell_type": "code",
   "execution_count": null,
   "id": "17fec0bd",
   "metadata": {},
   "outputs": [],
   "source": [
    "prob0 = scipy.stats.norm.cdf((x0 - weight_mean)/weight_stdev)\n",
    "prob0"
   ]
  },
  {
   "cell_type": "markdown",
   "id": "66e617cb",
   "metadata": {},
   "source": [
    " Whats is probability that an adult-male has a weight between 70 and 80kg "
   ]
  },
  {
   "cell_type": "code",
   "execution_count": null,
   "id": "3213fc69",
   "metadata": {},
   "outputs": [],
   "source": [
    "x1 = 60\n",
    "prob1 = scipy.stats.norm.cdf((x1 - weight_mean)/weight_stdev)\n",
    "prob = prob0 - prob1\n",
    "prob"
   ]
  },
  {
   "cell_type": "markdown",
   "id": "94f3fcee",
   "metadata": {},
   "source": [
    "Using the insurance data, what is the probability of having an BMI greater than 40?"
   ]
  },
  {
   "cell_type": "code",
   "execution_count": null,
   "id": "3da34640",
   "metadata": {},
   "outputs": [],
   "source": [
    "bmi_mean = insurance_df['bmi'].mean()\n",
    "bmi_stdev = insurance_df['bmi'].std()\n",
    "\n",
    "x0 = 40\n",
    "prob0 = scipy.stats.norm.cdf((x0 - bmi_mean)/bmi_stdev)\n",
    "print(1 - prob0)"
   ]
  },
  {
   "cell_type": "code",
   "execution_count": null,
   "id": "8f56dc6b",
   "metadata": {},
   "outputs": [],
   "source": [
    "bmi_std = (insurance_df['bmi'] - bmi_mean)/bmi_stdev"
   ]
  },
  {
   "cell_type": "code",
   "execution_count": null,
   "id": "1bec54bd",
   "metadata": {},
   "outputs": [],
   "source": [
    "bmi_std_mean = bmi_std.mean()\n",
    "bmi_std_stdev = bmi_std.std()\n",
    "print(bmi_std_mean,bmi_std_stdev)"
   ]
  },
  {
   "cell_type": "code",
   "execution_count": null,
   "id": "7ae84e6b",
   "metadata": {},
   "outputs": [],
   "source": [
    "ax = sns.histplot(bmi_std)"
   ]
  },
  {
   "cell_type": "code",
   "execution_count": null,
   "id": "2b2b3aed",
   "metadata": {},
   "outputs": [],
   "source": [
    "ax = sns.histplot(insurance_df['bmi'])"
   ]
  },
  {
   "cell_type": "markdown",
   "id": "1d6e85b2",
   "metadata": {},
   "source": [
    "# 3. Hypothesis testing"
   ]
  },
  {
   "cell_type": "markdown",
   "id": "45df8524",
   "metadata": {},
   "source": [
    "## Confidence Interval"
   ]
  },
  {
   "cell_type": "markdown",
   "id": "9ec50ab7",
   "metadata": {},
   "source": [
    "**From PPT:** We measure the heights of 40 randomly chosen men, and get a mean height of 175cm. We have already known that standard deviation is 20cm. Calculate the 95% confidence interval for mean height!\n"
   ]
  },
  {
   "cell_type": "code",
   "execution_count": null,
   "id": "6145f6a5",
   "metadata": {},
   "outputs": [],
   "source": [
    "n = 40\n",
    "height_mean = 175\n",
    "height_stdev = 20"
   ]
  },
  {
   "cell_type": "code",
   "execution_count": null,
   "id": "77cfbef9",
   "metadata": {},
   "outputs": [],
   "source": [
    "se = height_stdev/sqrt(n)"
   ]
  },
  {
   "cell_type": "code",
   "execution_count": null,
   "id": "0c9dc020",
   "metadata": {},
   "outputs": [],
   "source": [
    "scipy.stats.norm.interval(0.95, loc=height_mean, scale=se)"
   ]
  },
  {
   "cell_type": "markdown",
   "id": "81ef717d",
   "metadata": {},
   "source": [
    "## Hypothesis testing"
   ]
  },
  {
   "cell_type": "markdown",
   "id": "a4659260",
   "metadata": {},
   "source": [
    "### One-sample T-test"
   ]
  },
  {
   "cell_type": "markdown",
   "id": "bedba5f7",
   "metadata": {},
   "source": [
    "A premium golf ball production line must produce all of its balls to 1.615 ounces (45.78 grams) in order to get the top rating (and therefore the top dollar). Samples are drawn hourly and checked. If the production line gets out of sync with a statistical significance of more than 1%, it must be shut down and repaired. One hour samples have been drawn.\n",
    "\n",
    "1.616, 1.610, 1.615, 1.617, 1.618, 1.614, 1.615, 1.617, 1.610, 1.590, 1.610, 1.619, 1.620, 1.611, 1.612, 1.614, 1.615\n",
    "\n",
    "Do you shut down the line?"
   ]
  },
  {
   "cell_type": "markdown",
   "id": "74f8fc5c",
   "metadata": {},
   "source": [
    "Hypothesis:\n",
    "-   $H_0: µ = 1.615$ (\"mean of weight = 1.615 ounces\")\n",
    "-   $H_1: µ ≠ 1.615$"
   ]
  },
  {
   "cell_type": "code",
   "execution_count": null,
   "id": "a778c178",
   "metadata": {},
   "outputs": [],
   "source": [
    "sample = np.array([1.616, 1.610, 1.615, 1.617, 1.618, 1.614, 1.615, 1.617, 1.610, 1.590, 1.610, 1.619, 1.620, 1.611, 1.612, 1.614, 1.615])"
   ]
  },
  {
   "cell_type": "markdown",
   "id": "75fba4d8",
   "metadata": {},
   "source": [
    "#### Step 1: Calculate number of sample, mean and std. dev"
   ]
  },
  {
   "cell_type": "code",
   "execution_count": null,
   "id": "ea4a4c2f",
   "metadata": {},
   "outputs": [],
   "source": [
    "sample_mean = sample.mean()\n",
    "sample_stdev = sample.std()\n",
    "n = sample.size\n",
    "df = n - 1"
   ]
  },
  {
   "cell_type": "code",
   "execution_count": null,
   "id": "59ab0493",
   "metadata": {},
   "outputs": [],
   "source": [
    "alpha = 0.01\n",
    "h1_mean = 1.615"
   ]
  },
  {
   "cell_type": "markdown",
   "id": "4e5771cc",
   "metadata": {},
   "source": [
    "#### Step 2: Find/calculate critical value(s)"
   ]
  },
  {
   "cell_type": "code",
   "execution_count": null,
   "id": "029dc1b2",
   "metadata": {},
   "outputs": [],
   "source": [
    "# if you have python \n",
    "cv1 = scipy.stats.t.ppf(alpha/2, df)\n",
    "cv2 = scipy.stats.t.ppf(1- (alpha/2), df)\n",
    "print(cv1, cv2)"
   ]
  },
  {
   "cell_type": "markdown",
   "id": "227f56e7",
   "metadata": {},
   "source": [
    "Or, simple use t-distribution table\n",
    "\n",
    "![t-table](https://image.slidesharecdn.com/t-distributiontable-170723122602/95/t-distribution-table-1-638.jpg)"
   ]
  },
  {
   "cell_type": "markdown",
   "id": "b96c5b5b",
   "metadata": {},
   "source": [
    "#### Step 3: Calculate t-statistic and/or p-value"
   ]
  },
  {
   "cell_type": "code",
   "execution_count": null,
   "id": "b937bb85",
   "metadata": {},
   "outputs": [],
   "source": [
    "tstat = (sample_mean - h1_mean)/(sample_stdev/(sqrt(df)))\n",
    "tstat"
   ]
  },
  {
   "cell_type": "code",
   "execution_count": null,
   "id": "0fe82048",
   "metadata": {},
   "outputs": [],
   "source": [
    "pvalue = (1 - scipy.stats.t.cdf(abs(tstat), df)) * 2\n",
    "pvalue"
   ]
  },
  {
   "cell_type": "markdown",
   "id": "71dd4b6b",
   "metadata": {},
   "source": [
    "#### Step 4: Draw a conclusion"
   ]
  },
  {
   "cell_type": "markdown",
   "id": "d2f5b1eb",
   "metadata": {},
   "source": [
    "**Alternatif 1:** Compare t-stat to critical value. If t-stat > |critical value| *(for two tailed test)* --> reject H0  \n",
    "**Alternatif 2:** Compare p-value to alpha. If p-value < alpha --> reject H0  \n",
    "\n",
    "For this case, we cannot reject H0 and conclude that there are not enough reasons to shut the production line down. "
   ]
  },
  {
   "cell_type": "markdown",
   "id": "86ade339",
   "metadata": {},
   "source": [
    "### Statsmodel way"
   ]
  },
  {
   "cell_type": "markdown",
   "id": "f3534221",
   "metadata": {},
   "source": [
    "#### One-sample t-test"
   ]
  },
  {
   "cell_type": "code",
   "execution_count": null,
   "id": "740ed5c9",
   "metadata": {},
   "outputs": [],
   "source": [
    "d = sms.DescrStatsW(sample)\n",
    "d.ttest_mean(value=h1_mean, alternative='two-sided')"
   ]
  },
  {
   "cell_type": "markdown",
   "id": "d34ecd77",
   "metadata": {},
   "source": [
    "#### Confidence interval"
   ]
  },
  {
   "cell_type": "code",
   "execution_count": null,
   "id": "9dd6fdcc",
   "metadata": {
    "scrolled": true
   },
   "outputs": [],
   "source": [
    "d.tconfint_mean()"
   ]
  },
  {
   "cell_type": "markdown",
   "id": "e27f3f8a",
   "metadata": {},
   "source": [
    "### One sample T-Test (2)"
   ]
  },
  {
   "cell_type": "markdown",
   "id": "ae1de8e7",
   "metadata": {},
   "source": [
    "Using insurance data, check if on average people are overweight.\n",
    "\n",
    "According to CDC, BMI 30 or higher is considered as overweight, so we can write our hypothesis:\n",
    "    \n",
    "-   $H_0: µ = 30$ (\"mean of BMI = 30\")\n",
    "-   $H_1: µ > 30$"
   ]
  },
  {
   "cell_type": "code",
   "execution_count": null,
   "id": "faff9027",
   "metadata": {},
   "outputs": [],
   "source": [
    "d = sms.DescrStatsW(insurance_df['bmi'])\n",
    "d.ttest_mean(value=30, alternative='larger')"
   ]
  },
  {
   "cell_type": "markdown",
   "id": "abf7a46f",
   "metadata": {},
   "source": [
    "### Two independent sample T-Test"
   ]
  },
  {
   "cell_type": "markdown",
   "id": "6ed9f26f",
   "metadata": {},
   "source": [
    "Using insurance data, does smoking affect BMI (body mass index)?\n",
    "\n",
    "Hyphotesis\n",
    "-   $H_0: µ_1 = µ_2$ (\"there is no difference in BMI between smoker and non-smoker\")\n",
    "-   $H_1: µ_1 ≠ µ_2$ \n"
   ]
  },
  {
   "cell_type": "code",
   "execution_count": null,
   "id": "c33077f5",
   "metadata": {},
   "outputs": [],
   "source": [
    "# Levene Test to check equity of variance\n",
    "\n",
    "smoker    = insurance_df[insurance_df['smoker'] == 'yes']['bmi']\n",
    "nonsmoker = insurance_df[insurance_df['smoker'] ==  'no']['bmi']\n",
    "\n",
    "scipy.stats.levene(smoker, nonsmoker, center='mean')"
   ]
  },
  {
   "cell_type": "code",
   "execution_count": null,
   "id": "2d5fc6b6",
   "metadata": {},
   "outputs": [],
   "source": [
    "# P-value > 0.05, we assume equal variance\n",
    "scipy.stats.ttest_ind(smoker, nonsmoker, equal_var = True)"
   ]
  },
  {
   "cell_type": "markdown",
   "id": "dda6f991",
   "metadata": {},
   "source": [
    "### Test for proportion"
   ]
  },
  {
   "cell_type": "markdown",
   "id": "42d69590",
   "metadata": {},
   "source": [
    "Using isurance data, can we say that the proportion of smokers between male and female are different?\n",
    "\n",
    "Hypothesis:\n",
    "-   $H_0: p_m = p_f$ (\"proportion of male smokers equal to proportion of female smokers\")\n",
    "-   $H_1: p_m ≠ p_f$ "
   ]
  },
  {
   "cell_type": "code",
   "execution_count": null,
   "id": "10cd370b",
   "metadata": {},
   "outputs": [],
   "source": [
    "n_male   = insurance_df.sex[insurance_df['sex'] == 'male'].count()\n",
    "n_female = insurance_df.sex[insurance_df['sex'] == 'female'].count()\n",
    "\n",
    "n_male_smoker   = insurance_df.sex[insurance_df['sex'] == 'male'][insurance_df['smoker'] == 'yes'].count()\n",
    "n_female_smoker = insurance_df.sex[insurance_df['sex'] == 'female'][insurance_df['smoker'] == 'yes'].count()"
   ]
  },
  {
   "cell_type": "code",
   "execution_count": null,
   "id": "090576e2",
   "metadata": {},
   "outputs": [],
   "source": [
    "n_male_smoker"
   ]
  },
  {
   "cell_type": "code",
   "execution_count": null,
   "id": "f472b255",
   "metadata": {},
   "outputs": [],
   "source": [
    "n_smoker = np.array([n_male_smoker, n_female_smoker])\n",
    "n_gender = np.array([n_male, n_female])\n",
    "h1 = 0 \n",
    "prop.proportions_ztest(count = n_smoker, nobs = n_gender, value=h1)"
   ]
  },
  {
   "cell_type": "markdown",
   "id": "d92f9fce",
   "metadata": {},
   "source": [
    "### ANOVA"
   ]
  },
  {
   "cell_type": "code",
   "execution_count": null,
   "id": "19d4ab7d",
   "metadata": {},
   "outputs": [],
   "source": [
    "ne = insurance_df[insurance_df['region'] == 'northeast']['charges']                                               \n",
    "nw = insurance_df[insurance_df['region'] == 'northwest']['charges']                                               \n",
    "se = insurance_df[insurance_df['region'] == 'southeast']['charges']\n",
    "sw = insurance_df[insurance_df['region'] == 'southwest']['charges']\n",
    "\n",
    "scipy.stats.levene(ne, nw, se, sw, center='mean')"
   ]
  },
  {
   "cell_type": "markdown",
   "id": "98493262",
   "metadata": {},
   "source": [
    "**Note:** ANOVA assume equity of variance (homoscedasticity). Because pvalue is so small, this assumption can not be fullfiled, hence ANOVA theoritically can not be used. "
   ]
  },
  {
   "cell_type": "code",
   "execution_count": null,
   "id": "d42cb05e",
   "metadata": {},
   "outputs": [],
   "source": [
    "scipy.stats.f_oneway(ne, nw, se, sw)"
   ]
  },
  {
   "cell_type": "markdown",
   "id": "b5fc5184",
   "metadata": {},
   "source": [
    "**Note**: For two sample test with equal variance, ANOVA and t-test will draw same conclussion"
   ]
  },
  {
   "cell_type": "code",
   "execution_count": null,
   "id": "8595ad05",
   "metadata": {},
   "outputs": [],
   "source": [
    "scipy.stats.ttest_ind(smoker, nonsmoker, equal_var = True)"
   ]
  },
  {
   "cell_type": "code",
   "execution_count": null,
   "id": "945a08b2",
   "metadata": {},
   "outputs": [],
   "source": [
    "scipy.stats.f_oneway(smoker, nonsmoker)"
   ]
  },
  {
   "cell_type": "markdown",
   "id": "50461532",
   "metadata": {},
   "source": [
    "# 4. Association and correlation"
   ]
  },
  {
   "cell_type": "markdown",
   "id": "211df413",
   "metadata": {},
   "source": [
    "### Chi-Squared Test: Association between two categorical variables"
   ]
  },
  {
   "cell_type": "markdown",
   "id": "bc894ecf",
   "metadata": {},
   "source": [
    "Using insurance data, is there an association between gender and smoker?\n",
    "\n",
    "-   $H_0$ : no association between gender and smoker\n",
    "-   $H_1$ : there is an association between gender and smoker"
   ]
  },
  {
   "cell_type": "code",
   "execution_count": null,
   "id": "24f373fb",
   "metadata": {},
   "outputs": [],
   "source": [
    "gender_smoker_table = pd.crosstab(insurance_df.sex, insurance_df.smoker)\n",
    "#gender_smoker_table = pd.crosstab(insurance_df.sex, insurance_df.smoker, margins=True, margins_name='Total')"
   ]
  },
  {
   "cell_type": "code",
   "execution_count": null,
   "id": "90480caf",
   "metadata": {},
   "outputs": [],
   "source": [
    "scipy.stats.chi2_contingency(gender_smoker_table, correction = True)"
   ]
  },
  {
   "cell_type": "markdown",
   "id": "00161e96",
   "metadata": {},
   "source": [
    "### Pearson's r test: Correlation between two numerical variables"
   ]
  },
  {
   "cell_type": "markdown",
   "id": "51f1e19b",
   "metadata": {},
   "source": [
    "Using insurance data, is there an correlation between age and total charges?\n",
    "\n",
    "-   $H_0 : r = 0$ : no correlation between age and total charges\n",
    "-   $H_1 : r ≠ 0$ : there is a correlation between age and total charges"
   ]
  },
  {
   "cell_type": "code",
   "execution_count": null,
   "id": "7178b177",
   "metadata": {},
   "outputs": [],
   "source": [
    "scipy.stats.chi2_contingency(gender_smoker_table, correction = True)"
   ]
  },
  {
   "cell_type": "code",
   "execution_count": null,
   "id": "a73cf8d5",
   "metadata": {},
   "outputs": [],
   "source": [
    "ax = sns.scatterplot(x='age', y='charges', data=insurance_df)"
   ]
  },
  {
   "cell_type": "code",
   "execution_count": null,
   "id": "3a2b6c2d",
   "metadata": {},
   "outputs": [],
   "source": [
    "scipy.stats.pearsonr(insurance_df['age'], insurance_df['charges'])"
   ]
  },
  {
   "cell_type": "code",
   "execution_count": null,
   "id": "88eefaf2",
   "metadata": {},
   "outputs": [],
   "source": [
    "# calculate correlation coefficients across all numerical variables in panda's dataframe\n",
    "corr = insurance_df.corr()\n",
    "corr"
   ]
  },
  {
   "cell_type": "code",
   "execution_count": null,
   "id": "62bc8b30",
   "metadata": {},
   "outputs": [],
   "source": [
    "sns.heatmap(corr, \n",
    "        xticklabels=corr.columns,\n",
    "        yticklabels=corr.columns)"
   ]
  },
  {
   "cell_type": "markdown",
   "id": "08888f89",
   "metadata": {},
   "source": [
    "# 5. Linear regression"
   ]
  },
  {
   "cell_type": "markdown",
   "id": "b59ba9b2",
   "metadata": {},
   "source": [
    "### Simple linear regression"
   ]
  },
  {
   "cell_type": "markdown",
   "id": "1898d7ce",
   "metadata": {},
   "source": [
    "Using insurance data, check if age affects total charges and write formula to predict total charges base on age."
   ]
  },
  {
   "cell_type": "code",
   "execution_count": null,
   "id": "7d36373e",
   "metadata": {},
   "outputs": [],
   "source": [
    "X = insurance_df['age']\n",
    "# X = insurance_df['age'].values\n",
    "y = insurance_df['charges']\n",
    "X = sm.add_constant(X) \n",
    "\n",
    "model = sm.OLS(y, X).fit()\n",
    "model.summary()"
   ]
  },
  {
   "cell_type": "markdown",
   "id": "41102714",
   "metadata": {},
   "source": [
    "From the summary above, we can write a regression equation:\n",
    "    \n",
    "$charges = 3165.89 + 257.72*age + error$\n",
    "\n",
    "Means, every one year increase in age will increase total charge by 257.72"
   ]
  },
  {
   "cell_type": "markdown",
   "id": "b5ac6abf",
   "metadata": {},
   "source": [
    "### Multiple linear regression"
   ]
  },
  {
   "cell_type": "code",
   "execution_count": null,
   "id": "1a8f9672",
   "metadata": {},
   "outputs": [],
   "source": [
    "reg_dummy   = pd.get_dummies(insurance_df[['region']], drop_first=True)\n",
    "sex_dummy   = pd.get_dummies(insurance_df[['sex']], drop_first=True)\n",
    "smoke_dummy = pd.get_dummies(insurance_df[['smoker']], drop_first=True)"
   ]
  },
  {
   "cell_type": "code",
   "execution_count": null,
   "id": "3788ecd2",
   "metadata": {},
   "outputs": [],
   "source": [
    "Xs = pd.concat([insurance_df[['bmi', 'children']], reg_dummy, sex_dummy, smoke_dummy], axis=1)\n",
    "y = insurance_df['charges']\n",
    "Xs = sm.add_constant(Xs) \n",
    "\n",
    "model = sm.OLS(y, Xs).fit()\n",
    "model.summary()"
   ]
  },
  {
   "cell_type": "markdown",
   "id": "34cd5c8d",
   "metadata": {},
   "source": [
    "Assumptions for linear regression:  \n",
    "- **Linearity**: The relationship between X and the mean of Y is linear.\n",
    "- **Homoscedasticity**: The variance of residual is the same for any value of X.\n",
    "- **Independence**: Observations are independent of each other.\n",
    "- **Normality**: For any fixed value of X, Y is normally distributed."
   ]
  },
  {
   "cell_type": "markdown",
   "id": "fe69cf98",
   "metadata": {},
   "source": [
    "Interpreting coeficient for dummy variables:  \n",
    "- region_northwest = -392.3686 : total charge for northwest region is 392.37 lower than northest (reference)\n",
    "- sex_male = -310.8509 : total charge for males is 310.85 lower than females (reference)\n",
    "- smoker_yes = 2.366e+04 : total charge for smokers is 23,660 higher than non-smokers"
   ]
  },
  {
   "cell_type": "code",
   "execution_count": null,
   "id": "2647c991",
   "metadata": {},
   "outputs": [],
   "source": []
  }
 ],
 "metadata": {
  "kernelspec": {
   "display_name": "Python 3",
   "language": "python",
   "name": "python3"
  },
  "language_info": {
   "codemirror_mode": {
    "name": "ipython",
    "version": 3
   },
   "file_extension": ".py",
   "mimetype": "text/x-python",
   "name": "python",
   "nbconvert_exporter": "python",
   "pygments_lexer": "ipython3",
   "version": "3.8.8"
  }
 },
 "nbformat": 4,
 "nbformat_minor": 5
}
